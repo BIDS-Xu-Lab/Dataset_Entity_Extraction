{
 "cells": [
  {
   "cell_type": "code",
   "execution_count": 13,
   "metadata": {},
   "outputs": [],
   "source": [
    "import joblib\n",
    "import pandas as pd\n",
    "import random\n",
    "import json\n",
    "import re\n",
    "import spacy\n",
    "nlp = spacy.load(\"en_core_web_sm\")\n",
    "import string\n",
    "import os"
   ]
  },
  {
   "cell_type": "code",
   "execution_count": 14,
   "metadata": {},
   "outputs": [
    {
     "name": "stdout",
     "output_type": "stream",
     "text": [
      "Index(['pmid', 'title', 'abstract', 'journal', 'pub_year', 'pub_month',\n",
      "       'authors', 'mesh_terms'],\n",
      "      dtype='object')\n",
      "Index(['pmid', 'pub_year', 'pub_month'], dtype='object')\n"
     ]
    }
   ],
   "source": [
    "new_data_ = joblib.load('/home/gy237/project/Biomedical_datasets/total_pubmed/New_PMID_abstract/abstracts_and_pubdata/abstracts_1253-1575_2.joblib')\n",
    "print(new_data_.columns)\n",
    "old_data_ = joblib.load('/home/gy237/project/Biomedical_datasets/total_pubmed/New_PMID_abstract/abstracts_and_pubdata/pubdate_1253-1575.joblib')\n",
    "print(old_data_.columns)"
   ]
  },
  {
   "cell_type": "code",
   "execution_count": 15,
   "metadata": {},
   "outputs": [
    {
     "name": "stdout",
     "output_type": "stream",
     "text": [
      "去重前： 5520745\n",
      "去重复后： 2888326\n",
      "去重前： 5520745\n",
      "去重复后： 2888326\n"
     ]
    }
   ],
   "source": [
    "print('去重前：', len(new_data_))\n",
    "new_data = new_data_.drop_duplicates(subset=['pmid'], keep='last')\n",
    "new_data = new_data[['pmid', 'title', 'abstract', 'journal', 'authors', 'mesh_terms']]\n",
    "print('去重复后：', len(new_data))\n",
    "\n",
    "print('去重前：', len(old_data_))\n",
    "old_data = old_data_.drop_duplicates(subset=['pmid'], keep='last')\n",
    "print('去重复后：', len(old_data))"
   ]
  },
  {
   "cell_type": "code",
   "execution_count": 16,
   "metadata": {},
   "outputs": [
    {
     "name": "stdout",
     "output_type": "stream",
     "text": [
      "2888326\n",
      "Index(['pmid', 'title', 'abstract', 'journal', 'authors', 'mesh_terms',\n",
      "       'pub_year', 'pub_month'],\n",
      "      dtype='object')\n"
     ]
    }
   ],
   "source": [
    "merged_df = pd.merge(new_data, old_data, on='pmid', how='inner')  # 'inner' 只保留匹配的行\n",
    "\n",
    "print(len(merged_df))\n",
    "print(merged_df.columns)"
   ]
  },
  {
   "cell_type": "code",
   "execution_count": 17,
   "metadata": {},
   "outputs": [
    {
     "data": {
      "text/plain": [
       "['/home/gy237/project/Biomedical_datasets/total_pubmed/abstracts_1253-1575.joblib']"
      ]
     },
     "execution_count": 17,
     "metadata": {},
     "output_type": "execute_result"
    }
   ],
   "source": [
    "joblib.dump(merged_df, '/home/gy237/project/Biomedical_datasets/total_pubmed/abstracts_1253-1575.joblib')"
   ]
  },
  {
   "cell_type": "markdown",
   "metadata": {},
   "source": [
    "## 合并1-1252"
   ]
  },
  {
   "cell_type": "code",
   "execution_count": 2,
   "metadata": {},
   "outputs": [
    {
     "name": "stdout",
     "output_type": "stream",
     "text": [
      "Index(['pmid', 'title', 'abstract', 'journal', 'pubdate', 'authors',\n",
      "       'mesh_terms'],\n",
      "      dtype='object')\n"
     ]
    }
   ],
   "source": [
    "row_data = joblib.load('/gpfs/gibbs/project/huan_he/shared/datasets/pubmed/metadata_36m.joblib')\n",
    "print(row_data.columns)\n"
   ]
  },
  {
   "cell_type": "code",
   "execution_count": 3,
   "metadata": {},
   "outputs": [
    {
     "name": "stdout",
     "output_type": "stream",
     "text": [
      "Index(['pmid', 'pub_year', 'pub_month'], dtype='object')\n",
      "Index(['pmid', 'pub_year', 'pub_month'], dtype='object')\n",
      "Index(['pmid', 'pub_year', 'pub_month'], dtype='object')\n"
     ]
    }
   ],
   "source": [
    "date1 = joblib.load('/home/gy237/project/Biomedical_datasets/total_pubmed/New_PMID_abstract/abstracts_and_pubdata/pubdate_1-1219.joblib')\n",
    "print(date1.columns)\n",
    "date2 = joblib.load('/home/gy237/project/Biomedical_datasets/total_pubmed/New_PMID_abstract/abstracts_and_pubdata/pubdate_3.joblib')\n",
    "print(date2.columns)\n",
    "date3 = joblib.load('/home/gy237/project/Biomedical_datasets/total_pubmed/New_PMID_abstract/abstracts_and_pubdata/pubdate_1220-1252.joblib')\n",
    "print(date3.columns)"
   ]
  },
  {
   "cell_type": "code",
   "execution_count": 6,
   "metadata": {},
   "outputs": [
    {
     "name": "stdout",
     "output_type": "stream",
     "text": [
      "去重前： 36502590\n",
      "去重复后： 36502590\n",
      "去重前： 37232683\n",
      "去重复后： 36645032\n"
     ]
    }
   ],
   "source": [
    "print('去重前：', len(row_data))\n",
    "row_data_ = row_data.drop_duplicates(subset=['pmid'], keep='last')\n",
    "print('去重复后：', len(row_data_))\n",
    "\n",
    "combined_df = pd.concat([date1, date2, date3], axis=0)\n",
    "print('去重前：', len(combined_df))\n",
    "combined_df_ = combined_df.drop_duplicates(subset=['pmid'], keep='last')\n",
    "print('去重复后：', len(combined_df_))\n"
   ]
  },
  {
   "cell_type": "code",
   "execution_count": 7,
   "metadata": {},
   "outputs": [
    {
     "name": "stdout",
     "output_type": "stream",
     "text": [
      "36502590\n",
      "Index(['pmid', 'title', 'abstract', 'journal', 'pubdate', 'authors',\n",
      "       'mesh_terms', 'pub_year', 'pub_month'],\n",
      "      dtype='object')\n"
     ]
    }
   ],
   "source": [
    "# row_data_.rename(columns={'pubdate': 'pub_year'}, inplace=True)\n",
    "# combined_df = combined_df[['pmid', 'pub_month']]\n",
    "\n",
    "# merged_df = pd.merge(row_data_, combined_df_, on='pmid', how='inner')  # 'inner' 只保留匹配的行\n",
    "merged_df = row_data_.merge(combined_df_, on='pmid', how='left')\n",
    "print(len(merged_df))\n",
    "print(merged_df.columns)"
   ]
  },
  {
   "cell_type": "code",
   "execution_count": null,
   "metadata": {},
   "outputs": [],
   "source": [
    "for i in range(len(merged_df)-1, -1, -1):  # 从 len(df)-1 到 0\n",
    "    row = merged_df.iloc[i]\n",
    "    year1 = row['pubdate']\n",
    "    year2 = row['pub_year']   #大\n",
    "    if year1 != year2:\n",
    "        print(row['pmid'])\n",
    "        print(year1)\n",
    "        print(year2)"
   ]
  },
  {
   "cell_type": "code",
   "execution_count": 9,
   "metadata": {},
   "outputs": [],
   "source": [
    "merged_df['pub_year'] = merged_df['pub_year'].fillna(merged_df['pubdate'])"
   ]
  },
  {
   "cell_type": "code",
   "execution_count": 11,
   "metadata": {},
   "outputs": [
    {
     "name": "stdout",
     "output_type": "stream",
     "text": [
      "36502590\n"
     ]
    }
   ],
   "source": [
    "merged_df['pub_year'] = merged_df['pub_year'].astype(int)\n",
    "merged_df['pubdate'] = merged_df['pubdate'].astype(int)\n",
    "merged_df.loc[merged_df['pub_year'] > (merged_df['pubdate'] + 3), 'pub_year'] = merged_df['pubdate']\n",
    "print(len(merged_df))"
   ]
  },
  {
   "cell_type": "code",
   "execution_count": 12,
   "metadata": {},
   "outputs": [
    {
     "data": {
      "text/plain": [
       "['/home/gy237/project/Biomedical_datasets/total_pubmed/abstracts_1-1252.joblib']"
      ]
     },
     "execution_count": 12,
     "metadata": {},
     "output_type": "execute_result"
    }
   ],
   "source": [
    "joblib.dump(merged_df, '/home/gy237/project/Biomedical_datasets/total_pubmed/abstracts_1-1252.joblib')"
   ]
  }
 ],
 "metadata": {
  "kernelspec": {
   "display_name": "base",
   "language": "python",
   "name": "python3"
  },
  "language_info": {
   "codemirror_mode": {
    "name": "ipython",
    "version": 3
   },
   "file_extension": ".py",
   "mimetype": "text/x-python",
   "name": "python",
   "nbconvert_exporter": "python",
   "pygments_lexer": "ipython3",
   "version": "3.12.2"
  },
  "orig_nbformat": 4
 },
 "nbformat": 4,
 "nbformat_minor": 2
}
