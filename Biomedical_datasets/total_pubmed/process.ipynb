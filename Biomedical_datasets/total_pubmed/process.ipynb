{
 "cells": [
  {
   "cell_type": "code",
   "execution_count": 8,
   "metadata": {},
   "outputs": [],
   "source": [
    "import joblib\n",
    "import pandas as pd\n",
    "import random\n",
    "import json\n",
    "import re\n",
    "import spacy\n",
    "nlp = spacy.load(\"en_core_web_sm\")\n",
    "import string\n",
    "import os"
   ]
  },
  {
   "cell_type": "code",
   "execution_count": 2,
   "metadata": {},
   "outputs": [
    {
     "name": "stdout",
     "output_type": "stream",
     "text": [
      "Index(['pmid', 'title', 'abstract', 'journal', 'pubdate', 'authors',\n",
      "       'mesh_terms', 'pub_year', 'pub_month'],\n",
      "      dtype='object')\n"
     ]
    }
   ],
   "source": [
    "# 加载.joblib文件\n",
    "old_data = joblib.load('/home/gy237/project/Biomedical_datasets/total_pubmed/abstracts_1-1252.joblib')\n",
    "print(old_data.columns)\n",
    "# ['pmid', 'title', 'abstract', 'journal', 'pubdate', 'authors','mesh_terms']"
   ]
  },
  {
   "cell_type": "code",
   "execution_count": 3,
   "metadata": {},
   "outputs": [
    {
     "name": "stdout",
     "output_type": "stream",
     "text": [
      "Index(['pmid', 'title', 'abstract', 'journal', 'authors', 'mesh_terms',\n",
      "       'pub_year', 'pub_month'],\n",
      "      dtype='object')\n"
     ]
    }
   ],
   "source": [
    "new_data = joblib.load('/home/gy237/project/Biomedical_datasets/total_pubmed/abstracts_1253-1575.joblib')\n",
    "print(new_data.columns)"
   ]
  },
  {
   "cell_type": "code",
   "execution_count": 4,
   "metadata": {},
   "outputs": [
    {
     "name": "stdout",
     "output_type": "stream",
     "text": [
      "去重前： 39390916\n",
      "去重后： 37814430\n",
      "Index(['pmid', 'title', 'abstract', 'journal', 'pubdate', 'authors',\n",
      "       'mesh_terms', 'pub_year', 'pub_month'],\n",
      "      dtype='object')\n"
     ]
    }
   ],
   "source": [
    "combined_df = pd.concat([old_data, new_data], axis=0)\n",
    "print('去重前：', len(combined_df))\n",
    "data = combined_df.drop_duplicates(subset=['pmid'], keep='last')\n",
    "print('去重后：', len(data))\n",
    "print(data.columns)"
   ]
  },
  {
   "cell_type": "code",
   "execution_count": 5,
   "metadata": {},
   "outputs": [
    {
     "name": "stdout",
     "output_type": "stream",
     "text": [
      "data 37814430\n",
      "filtered_df 5446108\n"
     ]
    }
   ],
   "source": [
    "# 以data作为keyword进行筛选abstract\n",
    "print('data',len(data))\n",
    "filtered_df = data[data['abstract'].str.contains(' data', case=False)]\n",
    "print('filtered_df', len(filtered_df))"
   ]
  },
  {
   "cell_type": "code",
   "execution_count": 16,
   "metadata": {},
   "outputs": [],
   "source": [
    "# 将abstracts分句并进行保存\n",
    "def ends_with_punctuation(text):\n",
    "    return text[-1] in string.punctuation if text else False\n",
    "\n",
    "def split_abstracts(abstract):\n",
    "    doc = nlp(abstract)\n",
    "    abstracts = [sent.text for sent in doc.sents]\n",
    "    assert len(abstracts) != 0\n",
    "        \n",
    "    new_abstracts = []\n",
    "    for j in abstracts:\n",
    "        j = j.strip().split('\\n')   # 有些内部会有\\n\n",
    "        for k in j:\n",
    "            if len(k.split(' ')) > 5 and ends_with_punctuation(k):\n",
    "                new_abstracts.append(k)\n",
    "    return new_abstracts\n",
    "\n",
    "def save_abstracts(data, name):\n",
    "    for index, row in data.iterrows():\n",
    "        pmid = row['pmid']\n",
    "        abstract = row['abstract']\n",
    "        doc = split_abstracts(abstract)\n",
    "        \n",
    "        # 以pmid为文件名创建txt文件\n",
    "        with open(f\"/home/gy237/project/Biomedical_datasets/total_pubmed/{name}/{pmid}.txt\", \"w\", encoding=\"utf-8\") as file:\n",
    "            for j in doc:\n",
    "                file.write(j + '\\n')\n"
   ]
  },
  {
   "cell_type": "code",
   "execution_count": 17,
   "metadata": {},
   "outputs": [
    {
     "name": "stdout",
     "output_type": "stream",
     "text": [
      "200\n",
      "5445924\n"
     ]
    }
   ],
   "source": [
    "f1 = '/home/gy237/project/Biomedical_datasets/total_pubmed/Batch_1/agreement'\n",
    "f2 = '/home/gy237/project/Biomedical_datasets/total_pubmed/Batch_2/Batch_2'\n",
    "exist_pmids = os.listdir(f1) + os.listdir(f2)\n",
    "exist_pmids = [i.split('.')[0] for i in exist_pmids]\n",
    "print(len(exist_pmids))\n",
    "filtered_df_ = filtered_df[~filtered_df['pmid'].isin(exist_pmids)]\n",
    "print(len(filtered_df_))\n",
    "\n",
    "\n",
    "batch = filtered_df_.sample(n=100, random_state=42)\n",
    "save_abstracts(batch, 'Batch_3')"
   ]
  },
  {
   "cell_type": "code",
   "execution_count": 4,
   "metadata": {},
   "outputs": [
    {
     "name": "stdout",
     "output_type": "stream",
     "text": [
      "Index(['pmid', 'pub_year', 'pub_month'], dtype='object')\n"
     ]
    }
   ],
   "source": [
    "pubdata = joblib.load('/home/gy237/project/Biomedical_datasets/total_pubmed/New_PMID_abstract/abstracts_and_pubdata/pubdate_1253-1575.joblib')\n",
    "print(pubdata.columns)"
   ]
  },
  {
   "cell_type": "code",
   "execution_count": 6,
   "metadata": {},
   "outputs": [
    {
     "name": "stdout",
     "output_type": "stream",
     "text": [
      "(0, 3)\n",
      "['Spring', 'Spring', 'Winter', 'Winter', 'Winter', 'Spring', 'Autumn', 'Spring', 'Summer', 'Winter', 'Summer', 'Winter', 'Summer', 'Summer', 'Summer', 'Summer', 'Summer', 'Summer', 'Summer', 'Summer', 'Summer', 'Summer', 'Summer', 'Summer', 'Summer', 'Summer', 'Summer', 'Summer', 'Summer', 'Summer', 'Summer', 'Summer', 'Summer', 'Summer', 'Summer', 'Summer', 'Summer', 'Summer', 'Summer', 'Summer', 'Winter', 'Winter', 'Winter', 'Winter', 'Winter', 'Winter', 'Winter', 'Winter', 'Winter', 'Winter', 'Winter', 'Winter', 'Winter', 'Winter', 'Winter', 'Winter', 'Winter', 'Winter', 'Winter', 'Winter', 'Winter', 'Winter', 'Winter', 'Winter', 'Winter', 'Winter', 'Winter', 'Winter', 'Winter', 'Winter', 'Winter', 'Winter', 'Winter', 'Winter', 'Winter', 'Spring', 'Summer', 'Winter', 'Summer', 'Summer', 'Summer', '2005-2006', '2007-2008', 'Summer', 'Winter', 'Summer', 'Summer', 'Spring', 'Spring', 'Winter', 'Winter', 'Winter', 'Spring', 'Spring', 'Winter', 'Summer', '1992-1993', 'Spring']\n",
      "98\n"
     ]
    }
   ],
   "source": [
    "# 过滤出 'column_name' 为空的行\n",
    "count = []\n",
    "null_rows = pubdata[pubdata['pub_year'].isnull()]\n",
    "print(null_rows.shape)\n",
    "for i in pubdata['pub_year']:\n",
    "    if len(i) != 4:\n",
    "        count.append(i)\n",
    "print(count)\n",
    "print(len(count))"
   ]
  },
  {
   "cell_type": "code",
   "execution_count": 4,
   "metadata": {},
   "outputs": [],
   "source": [
    "# 通过布尔索引筛选出 pmid 为指定值的行\n",
    "filtered_data = data[data['pmid'] == '21370410']\n",
    "\n",
    "# 打印筛选出的条目\n",
    "filtered_data.to_json('/home/gy237/project/Biomedical_datasets/total_pubmed/New_PMID_abstract/test_.json', orient='records', lines=True)"
   ]
  },
  {
   "cell_type": "code",
   "execution_count": 30,
   "metadata": {},
   "outputs": [],
   "source": [
    "# 保留头尾5行\n",
    "data.tail().to_json('/home/gy237/project/Biomedical_datasets/total_pubmed/tail5_data.json', orient='records', lines=True)\n",
    "data.head().to_json('/home/gy237/project/Biomedical_datasets/total_pubmed/top5_data.json', orient='records', lines=True)"
   ]
  },
  {
   "cell_type": "code",
   "execution_count": 26,
   "metadata": {},
   "outputs": [
    {
     "name": "stdout",
     "output_type": "stream",
     "text": [
      "36502590\n"
     ]
    }
   ],
   "source": [
    "# 从文件中抽取所有的PMID\n",
    "pmid_list = data['pmid'].tolist()\n",
    "print(len(pmid_list))\n",
    "with open('/home/gy237/project/Biomedical_datasets/total_pubmed/pmid_list.txt', 'w') as file:\n",
    "    for i in pmid_list:\n",
    "        file.write(i + '\\n')"
   ]
  },
  {
   "cell_type": "markdown",
   "metadata": {},
   "source": [
    "# To get new total pmids\n",
    "export PATH=${HOME}/edirect:${PATH}\n",
    "esearch -db pubmed -query \"2023/10/01:2024/9/10[dp]\" | efetch -format uid > /Users/gy237/Desktop/python/pmids.txt\n",
    "2023/01/01:2024/9/10[dp]\n",
    "2023/10/01:2024/9/10[dp]"
   ]
  },
  {
   "cell_type": "code",
   "execution_count": 5,
   "metadata": {},
   "outputs": [
    {
     "name": "stdout",
     "output_type": "stream",
     "text": [
      "1614421\n",
      "36502590\n",
      "37676329\n"
     ]
    }
   ],
   "source": [
    "# Merge new and old pmid to get total PMID\n",
    "with open('/home/gy237/project/Biomedical_datasets/total_pubmed/PMID_1614421.txt', 'r') as file:\n",
    "    new = file.readlines()\n",
    "new = [i.strip() for i in new]\n",
    "with open('/home/gy237/project/Biomedical_datasets/total_pubmed/PMID_36502590.txt', 'r') as file:\n",
    "    old = file.readlines()\n",
    "old = [i.strip() for i in old]\n",
    "print('New', len(new))\n",
    "print('Old', len(old))\n",
    "\n",
    "total = old + new\n",
    "total = list(set(total))\n",
    "print('Total', len(total))\n",
    "with open('/home/gy237/project/Biomedical_datasets/total_pubmed/PMID_37676329.txt', 'w') as file:\n",
    "    for i in total:\n",
    "        file.write(i + '\\n')\n"
   ]
  },
  {
   "cell_type": "code",
   "execution_count": 5,
   "metadata": {},
   "outputs": [
    {
     "name": "stdout",
     "output_type": "stream",
     "text": [
      "New 1614421\n",
      "old 36502590\n",
      "New 1614421\n",
      "old 36502590\n",
      "1173739\n"
     ]
    }
   ],
   "source": [
    "# Get unique new PMIDs\n",
    "with open('/home/gy237/project/Biomedical_datasets/total_pubmed/PMID_1614421.txt', 'r') as file:\n",
    "    new = file.readlines()\n",
    "new = [i.strip() for i in new]\n",
    "with open('/home/gy237/project/Biomedical_datasets/total_pubmed/PMID_36502590.txt', 'r') as file:\n",
    "    old = file.readlines()\n",
    "old = [i.strip() for i in old]\n",
    "print('New', len(new))\n",
    "print('old', len(old))\n",
    "\n",
    "# 将两个list转换为集合\n",
    "set1 = set(new)\n",
    "set2 = set(old)\n",
    "print('New', len(set1))\n",
    "print('old', len(set2))\n",
    "\n",
    "# 找出list1中有而list2中没有的元素\n",
    "result = set1 - set2\n",
    "\n",
    "# 如果需要将结果转换回list\n",
    "result_list = list(result)\n",
    "\n",
    "print(len(result_list))\n",
    "with open('/home/gy237/project/Biomedical_datasets/total_pubmed/PMID_unique_new.txt', 'w') as file:\n",
    "    for i in result_list:\n",
    "        file.write(i + '\\n')"
   ]
  },
  {
   "cell_type": "code",
   "execution_count": 5,
   "metadata": {},
   "outputs": [],
   "source": [
    "# 随机抽取200条PMID\n",
    "with open('/home/gy237/project/Biomedical_datasets/total_pubmed/PMID_37676329.txt', 'r') as file:\n",
    "    total = file.readlines()\n",
    "total = [i.strip() for i in total]\n",
    "random.seed(42)\n",
    "sample_200 = random.sample(total, 300)\n",
    "with open('/home/gy237/project/Biomedical_datasets/total_pubmed/sample_200/sample_300.txt', 'w') as file:\n",
    "    for i in sample_200:\n",
    "        file.write(i + '\\n')"
   ]
  },
  {
   "cell_type": "code",
   "execution_count": 7,
   "metadata": {},
   "outputs": [
    {
     "name": "stdout",
     "output_type": "stream",
     "text": [
      "300\n",
      "1 2 3 4 5 6 7 8 9 10 11 12 13 14 15 16 17 18 19 20 21 22 23 24 25 26 27 28 29 30 31 32 33 34 35 36 37 38 39 40 41 42 43 44 45 46 47 48 49 50 51 52 53 54 55 56 57 58 59 60 61 62 63 64 65 66 67 68 69 70 71 72 73 74 75 76 77 78 79 80 81 82 83 84 85 86 87 88 89 90 91 92 93 94 95 96 97 98 99 100 101 102 103 104 105 106 107 108 109 110 111 112 113 114 115 116 117 118 119 120 121 122 123 124 125 126 127 128 129 130 131 132 133 134 135 136 137 138 139 140 141 142 143 144 145 146 147 148 149 150 151 152 153 154 155 156 157 158 159 160 161 162 163 164 165 166 167 168 169 170 171 172 173 174 175 176 177 178 179 180 181 182 183 184 185 186 187 188 189 190 191 192 193 194 195 196 197 198 199 200 201 202 203 204 205 206 207 208 209 210 211 212 213 214 215 216 217 218 219 220 221 222 223 224 225 226 227 228 229 230 231 232 233 234 235 236 237 238 239 240 241 242 243 244 245 246 247 248 249 250 251 252 253 254 255 256 257 258 259 260 261 262 263 264 265 266 267 268 269 270 271 272 273 274 275 276 277 278 279 280 281 282 283 284 285 286 287 288 289 290 291 292 "
     ]
    }
   ],
   "source": [
    "# 从全部数据中匹配抽出来的pmid的abstract\n",
    "with open('/home/gy237/project/Biomedical_datasets/total_pubmed/sample_200/sample_300.txt', 'r') as file:\n",
    "    sample_200 = file.readlines()\n",
    "sample_200 = [i.strip() for i in sample_200]\n",
    "print(len(sample_200))\n",
    "\n",
    "dic_list = []\n",
    "empty = []\n",
    "for pmid in sample_200:\n",
    "    # 获取特定PMID的行\n",
    "    row = data[data['pmid'] == pmid]\n",
    "    if not row.empty:\n",
    "        row_dict = row.to_dict(orient='records')[0]\n",
    "        dic_list.append(row_dict)\n",
    "        print(len(dic_list), end=' ')\n",
    "    else:\n",
    "        empty.append(pmid)\n",
    "# 将字典保存为JSON文件\n",
    "with open(f'/home/gy237/project/Biomedical_datasets/total_pubmed/sample_200/sample_300_abstract.json', 'w', encoding='utf-8') as f:\n",
    "    json.dump(dic_list, f, ensure_ascii=False, indent=4)\n"
   ]
  },
  {
   "cell_type": "code",
   "execution_count": 9,
   "metadata": {},
   "outputs": [
    {
     "name": "stdout",
     "output_type": "stream",
     "text": [
      "['38174763', '38168420', '38240506', '39066312', '39133620', '38319808', '39076848', '38769345']\n",
      "292\n"
     ]
    }
   ],
   "source": [
    "print(empty)\n",
    "print(len(dic_list))\n",
    "with open('/home/gy237/project/Biomedical_datasets/total_pubmed/sample_200/empty.txt', 'w') as file:\n",
    "    for i in empty:\n",
    "        file.write(i + '\\n')"
   ]
  },
  {
   "cell_type": "markdown",
   "metadata": {},
   "source": [
    "# To get abstract\n",
    "export PATH=${HOME}/edirect:${PATH}\n",
    "cat /Users/gy237/Desktop/python/PMID_unique_new.txt | efetch -db pubmed -format medline > /Users/gy237/Desktop/python/PMID_unique_new_abstracts.txt\n",
    "\n",
    "PMID- pmid\n",
    "TI  - title\n",
    "AB  - abstract\n",
    "JT  - journal\n",
    "DP  - pubdate\n",
    "FAU - authors        多行\n",
    "MH  - mesh_terms     多行"
   ]
  },
  {
   "cell_type": "code",
   "execution_count": 10,
   "metadata": {},
   "outputs": [],
   "source": [
    "def get_authors(data):\n",
    "    # 抽取authors\n",
    "    authors_list = []\n",
    "    current_author = {}\n",
    "\n",
    "    # 按行读取数据\n",
    "    for line in data.strip().splitlines():\n",
    "        if line.startswith(\"FAU - \"):\n",
    "            # 提取姓氏和名字\n",
    "            fau_match = re.search(r\"FAU - ([^,]+), (.+)\", line)\n",
    "            if fau_match:\n",
    "                current_author['last_name'] = fau_match.group(1)\n",
    "                current_author['first_name'] = fau_match.group(2)\n",
    "        \n",
    "        elif line.startswith(\"AU  - \"):\n",
    "            # 提取缩写\n",
    "            au_match = re.search(r\"AU  - (.+)\", line)\n",
    "            if au_match:\n",
    "                current_author['initials'] = au_match.group(1).split()[-1]\n",
    "        \n",
    "            \n",
    "                # 将当前作者添加到列表\n",
    "            authors_list.append(f\"{current_author['last_name']}|{current_author['first_name']}|{current_author['initials']}|\")\n",
    "            current_author = {}\n",
    "\n",
    "    # 生成最终的字符串\n",
    "    authors_str = \";\".join(authors_list)\n",
    "    return authors_str"
   ]
  },
  {
   "cell_type": "code",
   "execution_count": 11,
   "metadata": {},
   "outputs": [],
   "source": [
    "def extract_dic(txt):\n",
    "    pmid = txt.split('\\n')[0]\n",
    "    txt = txt.replace('\\n      ', '')\n",
    "    authors = get_authors(txt)\n",
    "\n",
    "    mesh_terms_list = []\n",
    "    for line in txt.strip().splitlines():\n",
    "        if line.startswith(\"TI  - \"):\n",
    "            title = line.split('TI  - ')[1].split('\\n')[0]\n",
    "        \n",
    "        elif line.startswith(\"AB  - \"):\n",
    "            abstract = line.split('AB  - ')[1].split('\\n')[0]\n",
    "        \n",
    "        elif line.startswith(\"JT  - \"):\n",
    "            journal = txt.split('JT  - ')[1].split('\\n')[0]\n",
    "        \n",
    "        elif line.startswith(\"DP  - \"):\n",
    "            pubdate = line.split('DP  - ')[1].split('\\n')[0]\n",
    "\n",
    "        elif line.startswith(\"MH  - \"):\n",
    "            mesh_terms = line.split('MH  - ')[1].split('\\n')[0]\n",
    "            mesh_terms_list.append(mesh_terms)\n",
    "    mesh_terms = '; '.join(mesh_terms_list)\n",
    "        \n",
    "    dic = {'pmid': pmid, 'title':title, 'abstract':abstract, 'journal': journal, 'pubdate': pubdate, 'authors':authors, 'mesh_terms': mesh_terms}\n",
    "\n",
    "    return pmid, dic"
   ]
  },
  {
   "cell_type": "code",
   "execution_count": 12,
   "metadata": {},
   "outputs": [
    {
     "name": "stdout",
     "output_type": "stream",
     "text": [
      "8\n",
      "300\n"
     ]
    }
   ],
   "source": [
    "# 抽取新下载的数据的abstract等metadata\n",
    "with open('/home/gy237/project/Biomedical_datasets/total_pubmed/sample_200/sample_8_abstracts.txt', 'r', encoding='utf-8') as file:\n",
    "    text = file.read()\n",
    "text_list = text.split('\\nPMID- ')\n",
    "text_list = [i for i in text_list if len(i)>2]\n",
    "print(len(text_list))\n",
    "\n",
    "\n",
    "abstract_list = []\n",
    "for txt in text_list:\n",
    "    pmid, dic = extract_dic(txt)\n",
    "    abstract_list.append(dic)\n",
    "    assert pmid in empty\n",
    "    \n",
    "\n",
    "with open(f'/home/gy237/project/Biomedical_datasets/total_pubmed/sample_200/sample_292_abstract.json', 'r', encoding='utf-8') as f:\n",
    "    old_abstract = json.load(f)\n",
    "abstract_list = old_abstract + abstract_list\n",
    "print(len(abstract_list))\n",
    "with open(f'/home/gy237/project/Biomedical_datasets/total_pubmed/sample_200/sample_300_abstract.json', 'w', encoding='utf-8') as f:\n",
    "    json.dump(abstract_list, f, ensure_ascii=False, indent=4)"
   ]
  }
 ],
 "metadata": {
  "kernelspec": {
   "display_name": "base",
   "language": "python",
   "name": "python3"
  },
  "language_info": {
   "codemirror_mode": {
    "name": "ipython",
    "version": 3
   },
   "file_extension": ".py",
   "mimetype": "text/x-python",
   "name": "python",
   "nbconvert_exporter": "python",
   "pygments_lexer": "ipython3",
   "version": "3.12.2"
  },
  "orig_nbformat": 4
 },
 "nbformat": 4,
 "nbformat_minor": 2
}
