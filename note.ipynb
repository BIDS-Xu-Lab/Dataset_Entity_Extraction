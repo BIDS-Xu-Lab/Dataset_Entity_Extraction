{
 "cells": [
  {
   "cell_type": "markdown",
   "id": "b5db1a68",
   "metadata": {},
   "source": [
    "Partition\tRoot Directory\t            Storage\t    File Count\tBackups\t Snapshots\n",
    "home\t    /vast/palmer/home.mccleary\t125GiB/user\t500,000\t    Yes\t     >=2 days\n",
    "project\t    /gpfs/gibbs/project\t        1TiB/group  5,000,000\tNo\t     >=2 days\n",
    "scratch\t    /vast/palmer/scratch\t    10TiB/group\t15,000,000\tNo\t     No\n",
    "## Files stored in palmer_scratch are purged if they are older than 60 days."
   ]
  },
  {
   "cell_type": "markdown",
   "id": "3d517987",
   "metadata": {},
   "source": [
    "getquota  显示内存使用情况\n",
    "mydirectories   获取目录的绝对路径\n",
    "    Grace\n",
    "    =====\n",
    "    project   /gpfs/gibbs/project/xu_hua/gy237\n",
    "    scratch60 /vast/palmer/scratch/xu_hua/gy237\n",
    "\n",
    "    Mccleary\n",
    "    =====\n",
    "    home      /vast/palmer/home.mccleary/gy237\n",
    "    project   /gpfs/gibbs/project/xu_hua/gy237\n",
    "    scratch60 /vast/palmer/scratch/xu_hua/gy237"
   ]
  },
  {
   "cell_type": "code",
   "execution_count": null,
   "id": "3f2e7a78-ccbf-46f8-84ab-341df7eb90e6",
   "metadata": {},
   "outputs": [],
   "source": [
    "# conda create --name llama3 python=3.10\n",
    "# pip install flash-attn --no-build-isolation\n",
    "# conda remove --name llama3 --all\n",
    "# conda create --prefix /home/gy237/project/env/unsloth python=3.11\n",
    "# conda create --name r_env r-essentials r-base\n",
    "# conda activate /home/gy237/project/env/unsloth\n",
    "# conda activate /home/gy237/project/env/abase\n",
    "# conda remove --prefix /home/gy237/project/env/unsloth --all"
   ]
  },
  {
   "cell_type": "code",
   "execution_count": null,
   "id": "9449bbbc",
   "metadata": {},
   "outputs": [],
   "source": [
    "# 输入：screen -S yj\n",
    "# ctrl + a + d，关闭窗口\n",
    "# 恢复窗口：screen -r yj\n",
    "# 关闭会话：screen -X -S 26140.1053.yj quit"
   ]
  },
  {
   "cell_type": "code",
   "execution_count": null,
   "id": "70f19d17",
   "metadata": {},
   "outputs": [],
   "source": [
    "# salloc --partition=gpu_devel --nodes=1 --ntasks=2 --cpus-per-task=1 --mem-per-cpu=51200 -t 06:00:00 --gpus=rtx5000:1\n",
    "# --partition=   day, gpu_devel, scavenge\n",
    "# rtx5000, a5000, rtx8000 , a100, --gpus=a100:1\n",
    "\n",
    "# 先cd到所在文件夹，然后run.slurm应该与运行脚本在同一文件中\n",
    "# sbatch run.slurm\n",
    "# gpu, scavenge, scavenge_gpu\n",
    "\n",
    "# 检查当前是否有足够的空闲节点\n",
    "# sinfo -a --hide -o \"%T %P %G %m\" | grep -i a100 | grep -v pi\n",
    "# 查看当前的作业队列，看是否有很多作业在排列中\n",
    "# squeue --me\n",
    "# check wall-clock time, memory usage,and CPU utilizations\n",
    "# seff YourJobID \n",
    "# 查询已经结束的作业\n",
    "# sacct -j ID\n",
    "# 提前结束任务：\n",
    "# scancel ID"
   ]
  },
  {
   "cell_type": "code",
   "execution_count": null,
   "id": "eff95baa",
   "metadata": {},
   "outputs": [],
   "source": [
    "# dell@dell-Tower:~$ conda env config vars set PATH=/home/gy237/.conda/envs/ft_llama3/bin:/home/gy237/cuda/cuda_12.1/bin:/home/gy237/anaconda3/bin:/home/gy237/.local/bin:/home/gy237/bin:/opt/slurm/current/bin:/usr/local/bin:/usr/bin:/usr/local/sbin:/usr/sbin:/opt/dell/srvadmin/bin -n ft_llama3\n",
    "# /home/gy237/.conda/envs/ft_llama3/bin:      /home/gy237/cuda/cuda_12.1/bin:\n",
    "# dell@dell-Tower:~$ conda env config vars set LD_LIBRARY_PATH=/home/gy237/cuda/cuda_12.1/lib64:$LD_LIBRARY_PATH -n unsloth\n",
    "# dell@dell-Tower:~$ conda env config vars set CUDA_HOME=/home/gy237/cuda/cuda_12.1 -n unsloth\n",
    "# dell@dell-Tower:~$ conda activate ft_llama3\n",
    "# WARNING: overwriting environment variables set in the machine\n",
    "# overwriting variable PATH LD_LIBRARY_PATH CUDA_HOME\n",
    "# (pytorch) dell@dell-Tower:~$ conda env config vars list\n",
    "# export PATH=/home/gy237/.conda/pkgs/cuda-nvcc-12.1.105-0/bin:$PATH\n",
    "# base conda env config vars set PATH=/home/gy237/cuda/cuda_12.1/bin:/home/gy237/anaconda3/bin:/home/gy237/.local/bin:/home/gy237/bin:/opt/slurm/current/bin:/usr/local/bin:/usr/bin:/usr/local/sbin:/usr/sbin:/vast/palmer/apps/bin:/opt/dell/srvadmin/bin -n base"
   ]
  },
  {
   "cell_type": "code",
   "execution_count": null,
   "id": "865652b8",
   "metadata": {},
   "outputs": [],
   "source": [
    "conda create --name unsloth3.9 \\\n",
    "    python=3.9 \\\n",
    "    pytorch-cuda=12.1 \\\n",
    "    pytorch=2.2.1 cudatoolkit xformers -c pytorch -c nvidia -c xformers \\\n",
    "    -y\n",
    "(llama3) [gy237@r813u23n03.mccleary ~]$ echo $PATH\n",
    "/mypath/cuda/bin:/home/gy237/.conda/envs/llama3/bin:/usr/bin\n",
    "(unsloth) [gy237@r813u23n03.mccleary ~]$ echo $PATH\n",
    "/mypath/cuda/bin:/home/gy237/.conda/envs/unsloth/bin:/usr/bin\n",
    "(unsloth) [gy237@login2.mccleary ~]$ echo $PATH\n",
    "/home/gy237/.conda/envs/unsloth/bin:/home/gy237/anaconda3/condabin:/home/gy237/.local/bin:/home/gy237/bin:/opt/slurm/current/bin:/usr/local/bin:/usr/bin:/usr/local/sbin:/usr/sbin:/opt/dell/srvadmin/bin"
   ]
  },
  {
   "cell_type": "code",
   "execution_count": null,
   "id": "fb49504a",
   "metadata": {},
   "outputs": [],
   "source": [
    "PATH = /mypath/cuda/bin:/home/gy237/.conda/envs/llama3/bin:/usr/bin"
   ]
  },
  {
   "cell_type": "code",
   "execution_count": null,
   "id": "66d42f86",
   "metadata": {},
   "outputs": [],
   "source": [
    "PATH = /home/gy237/.conda/envs/ft_llama3/bin:/home/gy237/cuda/cuda_12.1/bin:/home/gy237/anaconda3/condabin:/home/gy237/.local/bin:/home/gy237/bin:/opt/slurm/current/bin:/usr/local/bin:/usr/bin:/usr/local/sbin:/usr/sbin:/opt/dell/srvadmin/bin"
   ]
  },
  {
   "cell_type": "code",
   "execution_count": null,
   "id": "395c1ae0",
   "metadata": {},
   "outputs": [],
   "source": [
    "/home/gy237/.conda/envs/unsloth/bin:/home/gy237/cuda/cuda_12.1/bin:/home/gy237/anaconda3/bin:/home/gy237/.local/bin:/home/gy237/bin:/opt/slurm/current/bin:/usr/local/bin:/usr/bin:/usr/local/sbin:/usr/sbin:/opt/dell/srvadmin/bin"
   ]
  },
  {
   "cell_type": "code",
   "execution_count": null,
   "id": "5b9c299a",
   "metadata": {},
   "outputs": [],
   "source": [
    "import logging\n",
    "# 设置日志记录的基本配置\n",
    "logging.basicConfig(\n",
    "    level=logging.INFO,                     # 设置日志级别\n",
    "    format='%(asctime)s - %(levelname)s - %(message)s',  # 设置日志格式\n",
    "    filename='BICCN_data/test_data/download_data.log',                     # 设置日志文件（不需要可以省略）\n",
    "    filemode='w'                            # 写入模式，'w'为覆盖，'a'为追加\n",
    ")"
   ]
  },
  {
   "cell_type": "markdown",
   "id": "9acc0783",
   "metadata": {},
   "source": [
    "<!-- dell@dell-Tower:~$ conda env config vars set PATH=/home/gy237/.conda/pkgs/cuda-nvcc-12.2.140-0/bin:$PATH -n pytorch\n",
    "dell@dell-Tower:~$ conda env config vars set LD_LIBRARY_PATH=/home/gy237/.conda/pkgs/cuda-nvcc-12.2.140-0/lib:$LD_LIBRARY_PATH -n pytorch\n",
    "dell@dell-Tower:~$ conda env config vars set CUDA_HOME=/home/gy237/.conda/pkgs/cuda-nvcc-12.2.140-0 -n pytorch\n",
    "dell@dell-Tower:~$ conda activate pytorch\n",
    "WARNING: overwriting environment variables set in the machine\n",
    "overwriting variable PATH LD_LIBRARY_PATH CUDA_HOME\n",
    "(pytorch) dell@dell-Tower:~$ conda env config vars list\n",
    "PATH = /usr/local/cuda-11.6/bin:/usr/local/cuda-11.6/bin:/opt/texlive/2022/bin/x86_64-linux:/opt/anaconda3/condabin:/opt/anaconda3/bin:/usr/local/sbin:/usr/local/bin:/usr/sbin:/usr/bin:/sbin:/bin:/usr/games:/usr/local/games:/snap/bin\n",
    "LD_LIBRARY_PATH = /usr/local/cuda-11.6/lib64:/usr/local/cuda-11.6/lib64:\n",
    "CUDA_HOME = /usr/local/cuda -->"
   ]
  }
 ],
 "metadata": {
  "kernelspec": {
   "display_name": "Python 3 (ipykernel)",
   "language": "python",
   "name": "python3"
  },
  "language_info": {
   "codemirror_mode": {
    "name": "ipython",
    "version": 3
   },
   "file_extension": ".py",
   "mimetype": "text/x-python",
   "name": "python",
   "nbconvert_exporter": "python",
   "pygments_lexer": "ipython3",
   "version": "3.9.19"
  }
 },
 "nbformat": 4,
 "nbformat_minor": 5
}
