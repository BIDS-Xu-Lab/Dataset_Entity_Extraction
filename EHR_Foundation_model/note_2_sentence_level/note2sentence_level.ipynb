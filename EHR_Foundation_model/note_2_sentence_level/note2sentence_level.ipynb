{
 "cells": [
  {
   "cell_type": "markdown",
   "metadata": {},
   "source": [
    "return an df\n",
    "sent_file_name, note_file_name, note_file_line_index_start, note_file_line_index_end\n",
    "sent_1.bio,note_100.bio,5,12\n",
    "sent_2.bio,note_100.bio,6,18"
   ]
  },
  {
   "cell_type": "code",
   "execution_count": 27,
   "metadata": {},
   "outputs": [],
   "source": [
    "import os\n",
    "import pandas as pd\n",
    "import joblib"
   ]
  },
  {
   "cell_type": "code",
   "execution_count": 28,
   "metadata": {},
   "outputs": [
    {
     "name": "stdout",
     "output_type": "stream",
     "text": [
      "163\n",
      "1004\n"
     ]
    }
   ],
   "source": [
    "note_folder = '/home/gy237/project/EHR_Foundation_model/note_2_sentence_level/note_level'\n",
    "sent_folder = '/home/gy237/project/EHR_Foundation_model/note_2_sentence_level/sent_level'\n",
    "\n",
    "note_files = os.listdir(note_folder)\n",
    "note_files = [i for i in note_files if i.endswith('.bio')]\n",
    "print(len(note_files))\n",
    "\n",
    "sent_files = os.listdir(sent_folder)\n",
    "sent_files = [i for i in sent_files if i.endswith('.bio')]\n",
    "print(len(sent_files))"
   ]
  },
  {
   "cell_type": "code",
   "execution_count": 29,
   "metadata": {},
   "outputs": [],
   "source": [
    "notes = []\n",
    "for file in note_files:\n",
    "    with open(f'{note_folder}/{file}', 'r') as f:\n",
    "        lines = f.readlines()\n",
    "    word_list = [i.strip().split('\\t')[0] for i in lines]\n",
    "    word_list = [f'@{i}$' for i in word_list]\n",
    "    notes.append(''.join(word_list))\n",
    "\n",
    "# [\"HISTORY OF PRESENT ILLNESS : This is a very nice 53 - year - old white male with no previous history of heart disease , was admitted to rule out MI and coronary artery disease .  The patient has history of hypercholesterolemia , presently on Lipitor 20 mg a day and hyperthyroidism , on Synthroid 0 . 088 mg per day .  Also , history of chronic diverticulitis with recent bouts .  The patient has been doing well , seen in my office at the end of December for complete physical examination .  I had ordered a stress test for him , then delayed due to a family illness .  However , denies any chest pain or chest tightness with exertion .  The patient was doing well .  He was watching television yesterday afternoon or p . m . and fell asleep holding his head in his left hand .  He awoke and noticed pain in the jaw and neck area , on both sides , but no shortness of breath , diaphoresis , nausea , or chest pain .  He is able to go to sleep , woke up this morning with same discomfort , decided to call our office , talked to our triage nurse , who instructed to come to the emergency room for possibility of just having a cardiac event .  The patient ' s pain resolved .  He was given nitroglycerin in the emergency room drawing his blood pressure 67 / 32 .  Blood pressure quickly came back to normal with the patient ' s reverse Trendelenburg . \"]"
   ]
  },
  {
   "cell_type": "code",
   "execution_count": 30,
   "metadata": {},
   "outputs": [],
   "source": [
    "sents = []\n",
    "for file in sent_files:\n",
    "    with open(f'{sent_folder}/{file}', 'r') as f:\n",
    "        lines = f.readlines()\n",
    "    word_list = [i.strip().split('\\t')[0] for i in lines]\n",
    "    word_list = [f'@{i}$' for i in word_list]\n",
    "    sents.append(''.join(word_list))\n",
    "\n",
    "# ['HISTORY OF PRESENT ILLNESS : This patient is a 24 - year - old African - American female who presented to the hospital with buttock pain .']"
   ]
  },
  {
   "cell_type": "code",
   "execution_count": 31,
   "metadata": {},
   "outputs": [
    {
     "name": "stdout",
     "output_type": "stream",
     "text": [
      "(0, 31)\n"
     ]
    }
   ],
   "source": [
    "def get_index(sent_file, note_file):\n",
    "    with open(f'{sent_folder}/{sent_file}', 'r') as f:\n",
    "        lines = f.readlines()\n",
    "        sent = [i.strip().split('\\t')[0] for i in lines]\n",
    "    with open(f'{note_folder}/{note_file}', 'r') as f:\n",
    "        lines = f.readlines()\n",
    "        note = [i.strip().split('\\t')[0] for i in lines]\n",
    "\n",
    "    for index in range(len(note)):\n",
    "        if note[index: index + len(sent)] == sent:\n",
    "            return index, index + len(sent)\n",
    "\n",
    "print(get_index('819.bio', 'sample_1074.bio'))"
   ]
  },
  {
   "cell_type": "code",
   "execution_count": 32,
   "metadata": {},
   "outputs": [
    {
     "name": "stdout",
     "output_type": "stream",
     "text": [
      "重复匹配到的句子 350\n"
     ]
    }
   ],
   "source": [
    "output = pd.DataFrame()\n",
    "error = pd.DataFrame()\n",
    "\n",
    "for s in range(len(sent_files)):\n",
    "    sent = sents[s]\n",
    "    # if len(sent) < 7: # 如果句子过短不进行匹配，最短必须是7\n",
    "    #     break\n",
    "    flag = True\n",
    "    for n in range(len(note_files)):\n",
    "        note = notes[n]\n",
    "        if sent in note:\n",
    "            if flag == False:\n",
    "                error.loc[len(error), 'sent_file_name'] = sent_files[s]\n",
    "                error.loc[len(error)-1, 'note_file_name'] = note_files[n]\n",
    "                error.loc[len(error)-1, 'sent'] = sents[s]\n",
    "                error.loc[len(error)-1, 'note'] = notes[n]\n",
    "\n",
    "            flag = False\n",
    "            output.loc[len(output), 'sent_file_name'] = sent_files[s]\n",
    "            output.loc[len(output)-1, 'note_file_name'] = note_files[n]\n",
    "            index_tu = get_index(sent_files[s], note_files[n])\n",
    "            # print(index_tu)\n",
    "            # print(sent_files[s])\n",
    "            # print(note_files[n])\n",
    "            # print(sents[s])\n",
    "            # print(notes[n])\n",
    "            output.loc[len(output)-1, 'note_file_line_index_start'] = index_tu[0]\n",
    "            output.loc[len(output)-1, 'note_file_line_index_end'] = index_tu[1]\n",
    "\n",
    "    if flag:\n",
    "        print(sent_files[s])\n",
    "print('重复匹配到的句子', len(error))\n"
   ]
  },
  {
   "cell_type": "code",
   "execution_count": 33,
   "metadata": {},
   "outputs": [],
   "source": [
    "joblib.dump(output, '/home/gy237/project/EHR_Foundation_model/note_2_sentence_level/output.joblib')\n",
    "error.to_csv('/home/gy237/project/EHR_Foundation_model/note_2_sentence_level/error.csv')"
   ]
  }
 ],
 "metadata": {
  "kernelspec": {
   "display_name": "base",
   "language": "python",
   "name": "python3"
  },
  "language_info": {
   "codemirror_mode": {
    "name": "ipython",
    "version": 3
   },
   "file_extension": ".py",
   "mimetype": "text/x-python",
   "name": "python",
   "nbconvert_exporter": "python",
   "pygments_lexer": "ipython3",
   "version": "3.12.2"
  },
  "orig_nbformat": 4
 },
 "nbformat": 4,
 "nbformat_minor": 2
}
