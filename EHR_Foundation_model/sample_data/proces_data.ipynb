{
 "cells": [
  {
   "cell_type": "code",
   "execution_count": 6,
   "metadata": {},
   "outputs": [],
   "source": [
    "import os\n",
    "import pandas as pd\n",
    "# patient id, time, diagnosis code, Procdure\n",
    "# patient id = 'ENROLID'\n",
    "# time = 'ADMDATE'                          I, S\n",
    "# diagnosis code = 'DX1 through DX15'       F, I, O, S          I 1-15  F 1-9   O 1-4   S 1-4\n",
    "# Procdure = 'PROC1 through PROC15'         F, I, O, S          I 1-15"
   ]
  },
  {
   "cell_type": "code",
   "execution_count": 16,
   "metadata": {},
   "outputs": [],
   "source": [
    "floder_path = '/home/gy237/project/EHR_Foundation_model/sample_data/sample_data'"
   ]
  },
  {
   "cell_type": "code",
   "execution_count": 17,
   "metadata": {},
   "outputs": [],
   "source": [
    "def process_floder_path(floder_path):\n",
    "    files = os.listdir(floder_path)\n",
    "    files = [floder_path+'/'+i for i in files]\n",
    "    need_col = ['ENROLID', 'ADMDATE'] + ['DX'+str(i+1) for i in range(15)] + ['PROC'+str(i+1) for i in range(15)]\n",
    "    # print(need_col)\n",
    "    for file in files:\n",
    "        if file.endswith('_I.csv'):\n",
    "            df = pd.read_csv(file)\n",
    "            df_clear = df[need_col]\n",
    "            saved_path = file.split('.csv')[0] + '_processed.csv'\n",
    "            df_clear.to_csv(saved_path, index=False)"
   ]
  },
  {
   "cell_type": "code",
   "execution_count": 18,
   "metadata": {},
   "outputs": [],
   "source": [
    "process_floder_path(floder_path)"
   ]
  },
  {
   "cell_type": "code",
   "execution_count": 15,
   "metadata": {},
   "outputs": [],
   "source": [
    "import os\n",
    "import pandas as pd\n",
    "floder_path = '/home/gy237/project/EHR_Foundation_model/sample_data/sample_data'\n",
    "def process_floder_path(floder_path):\n",
    "    files = os.listdir(floder_path)\n",
    "    files = [floder_path+'/'+i for i in files]\n",
    "    need_col = ['ENROLID', 'ADMDATE'] + ['DX'+str(i+1) for i in range(15)] + ['PROC'+str(i+1) for i in range(15)]\n",
    "    all_records = []\n",
    "    for file in files:\n",
    "        if file.endswith('_I.csv'):\n",
    "            df = pd.read_csv(file)\n",
    "            df_clear = df[need_col]\n",
    "            for _, row in df_clear.iterrows():\n",
    "                enrolid = row['ENROLID']\n",
    "                admdate = row['ADMDATE']\n",
    "                # Process diagnosis (ICD)\n",
    "                for i in range(15):\n",
    "                    dx_code = row['DX'+str(i+1)]\n",
    "                    if pd.notna(dx_code):  # Check if code is not NaN\n",
    "                        all_records.append([enrolid, admdate, 'ICD', i+1, dx_code])\n",
    "                # Process procedures\n",
    "                for i in range(15):\n",
    "                    proc_code = row['PROC'+str(i+1)]\n",
    "                    if pd.notna(proc_code):  # Check if code is not NaN\n",
    "                        all_records.append([enrolid, admdate, 'procedure', i+1, proc_code])\n",
    "    # Convert records to DataFrame and save\n",
    "    processed_df = pd.DataFrame(all_records, columns=['patient id', 'time', 'type', 'order', 'code'])\n",
    "    saved_path = floder_path + '/processed_output.csv'\n",
    "    processed_df.to_csv(saved_path, index=False)\n",
    "process_floder_path(floder_path)"
   ]
  }
 ],
 "metadata": {
  "kernelspec": {
   "display_name": "base",
   "language": "python",
   "name": "python3"
  },
  "language_info": {
   "codemirror_mode": {
    "name": "ipython",
    "version": 3
   },
   "file_extension": ".py",
   "mimetype": "text/x-python",
   "name": "python",
   "nbconvert_exporter": "python",
   "pygments_lexer": "ipython3",
   "version": "3.12.2"
  }
 },
 "nbformat": 4,
 "nbformat_minor": 2
}
