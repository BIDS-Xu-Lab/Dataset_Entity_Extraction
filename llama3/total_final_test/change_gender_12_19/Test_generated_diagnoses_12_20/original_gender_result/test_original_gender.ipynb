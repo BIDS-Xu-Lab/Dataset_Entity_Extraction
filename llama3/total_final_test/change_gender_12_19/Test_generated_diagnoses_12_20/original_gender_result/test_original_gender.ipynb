{
 "cells": [
  {
   "cell_type": "code",
   "execution_count": 21,
   "metadata": {},
   "outputs": [],
   "source": [
    "import json\n",
    "from datasets import load_dataset\n",
    "import pandas as pd\n",
    "import os\n",
    "import numpy as np\n",
    "import ast\n",
    "\n",
    "\n",
    "# path = '/home/gy237/project/llama3/total_final_test/Llama3.1_final_test'\n",
    "path = '/home/gy237/project/llama3/total_final_test/JAMA_final_test'\n",
    "# name = 'Llama370BInsJAMAreasoninginstr1000003_JAMAFinalAll_test.csv'\n",
    "\n",
    "names = os.listdir(path)\n",
    "names = [i for i in names if i.endswith('.csv')]\n",
    "\n",
    "\n",
    "flie_list = os.listdir(path)\n",
    "flie_list_old = [i for i in flie_list if i.endswith('.csv')]\n",
    "\n",
    "output_folder = '/home/gy237/project/llama3/total_final_test/change_gender_12_19/Test_generated_diagnoses_12_20/original_gender_result/intermediate_file'\n"
   ]
  },
  {
   "cell_type": "code",
   "execution_count": 22,
   "metadata": {},
   "outputs": [
    {
     "name": "stdout",
     "output_type": "stream",
     "text": [
      "['JAMA_FINAL_test_o1-preview_test.csv', 'JAMA_FINAL_test_gpt-4-turbo_test.csv', 'JAMA_FINAL_test_gpt-4o_test.csv', 'JAMA_FINAL_test_Llama-3-70B-Instruct_test.csv', 'JAMA_FINAL_test_Llama-3.1-70B-Instruct_test.csv', 'JAMA_FINAL_test_gpt-3.5-turbo_test.csv']\n"
     ]
    },
    {
     "data": {
      "text/plain": [
       "['JAMA_FINAL_test_o1-preview_test.csv',\n",
       " 'JAMA_FINAL_test_gpt-4-turbo_test.csv',\n",
       " 'JAMA_FINAL_test_gpt-4o_test.csv',\n",
       " 'JAMA_FINAL_test_Llama-3-70B-Instruct_test.csv',\n",
       " 'JAMA_FINAL_test_Llama-3.1-70B-Instruct_test.csv',\n",
       " 'JAMA_FINAL_test_gpt-3.5-turbo_test.csv']"
      ]
     },
     "execution_count": 22,
     "metadata": {},
     "output_type": "execute_result"
    }
   ],
   "source": [
    "print(flie_list_old)\n",
    "\n",
    "['JAMA_FINAL_test_o1-preview_test.csv', 'JAMA_FINAL_test_gpt-4-turbo_test.csv', 'JAMA_FINAL_test_gpt-4o_test.csv', 'JAMA_FINAL_test_Llama-3-70B-Instruct_test.csv', 'JAMA_FINAL_test_Llama-3.1-70B-Instruct_test.csv', 'JAMA_FINAL_test_gpt-3.5-turbo_test.csv']\n"
   ]
  },
  {
   "cell_type": "code",
   "execution_count": 23,
   "metadata": {},
   "outputs": [
    {
     "name": "stdout",
     "output_type": "stream",
     "text": [
      "492\n"
     ]
    }
   ],
   "source": [
    "new_data = pd.read_csv('/home/gy237/project/llama3/total_final_test/change_gender_12_19/Test_generated_diagnoses_12_20/intermediate_file/JAMA_FINAL_test_gender_transferred_gpt-4o_test.csv')\n",
    "new_id = new_data['ID'].tolist()\n",
    "print(len(new_id))"
   ]
  },
  {
   "cell_type": "code",
   "execution_count": 24,
   "metadata": {},
   "outputs": [
    {
     "name": "stdout",
     "output_type": "stream",
     "text": [
      "492\n",
      "492\n",
      "492\n",
      "492\n",
      "492\n",
      "492\n"
     ]
    }
   ],
   "source": [
    "for file in flie_list_old:\n",
    "    file_path = f'{path}/{file}'\n",
    "    old_data = pd.read_csv(file_path)\n",
    "    filtered_data = old_data[old_data['ID'].isin(new_id)]\n",
    "    print(len(filtered_data))\n",
    "    filtered_data.to_csv(f'{output_folder}/{file}')"
   ]
  }
 ],
 "metadata": {
  "kernelspec": {
   "display_name": "base",
   "language": "python",
   "name": "python3"
  },
  "language_info": {
   "codemirror_mode": {
    "name": "ipython",
    "version": 3
   },
   "file_extension": ".py",
   "mimetype": "text/x-python",
   "name": "python",
   "nbconvert_exporter": "python",
   "pygments_lexer": "ipython3",
   "version": "3.12.2"
  },
  "orig_nbformat": 4
 },
 "nbformat": 4,
 "nbformat_minor": 2
}
