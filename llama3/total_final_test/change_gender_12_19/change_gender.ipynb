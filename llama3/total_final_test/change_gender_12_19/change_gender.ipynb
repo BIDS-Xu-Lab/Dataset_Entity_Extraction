{
 "cells": [
  {
   "cell_type": "code",
   "execution_count": 1,
   "metadata": {},
   "outputs": [],
   "source": [
    "import json\n",
    "from datasets import load_dataset\n",
    "import pandas as pd\n",
    "import numpy as np\n",
    "from tqdm import tqdm, trange\n",
    "from multiprocessing import Pool\n",
    "from datasets import load_dataset\n",
    "from datasets import Dataset, DatasetDict"
   ]
  },
  {
   "cell_type": "code",
   "execution_count": 2,
   "metadata": {},
   "outputs": [],
   "source": [
    "# 下载数据\n",
    "ds = load_dataset(\"YBXL/JAMA_FINAL_test\", cache_dir='/home/gy237/project/download_data')"
   ]
  },
  {
   "cell_type": "code",
   "execution_count": 3,
   "metadata": {},
   "outputs": [
    {
     "name": "stdout",
     "output_type": "stream",
     "text": [
      "{'id': 'JAMA_FINAL0', 'query': 'Develop a 10-Step differential diagnosis, for each step, give only one differential diagnosis with only the disease name at current step, do not provide repeated hypotheses or diagnoses that appear in previous steps. Rerank all 10 differential diagnosis using all patient information and test results. Let’s think step by step.\\n### INPUT:\\nA 77-year-old male with history of hypertension and asthma presented with 3 months of progressive decline in vision in the left eye. He had no known ocular history. At presentation, best-corrected visual acuity was 20/100 OD and 20/50 OS. Intraocular pressures were normal bilaterally and pupils were equally reactive. Examination of the right eye was unremarkable except for moderate cataract. The left-eye slitlamp examination was remarkable for a shallow but quiet anterior chamber and moderate cataract. Dilated fundus examination of the left eye revealed shallow peripheral serous choroidal detachments, bullous inferior macula-involving retinal detachment with shifting fluid, and diffuse hyperpigmented lesions involving the macula and superior fundus that corresponded to areas of nodular retinal pigment epithelium thickening on optical coherence tomography (Figure 1). These hyperpigmented lesions were associated with hyperautofluorescence and blockage on fluorescein and indocyanine green angiography. No retinal breaks were seen on scleral depressed examination. Ultrasound biomicroscopy demonstrated 360° ciliochoroidal effusion. Axial length was 24.30 mm OD and 24.32 mm OS. The patient denied a history of known refractive error. \\n### OUTPUT:\\n    ', 'answer': 'Idiopathic uveal effusion syndrome', 'topic': \"['Retinal Disorders', 'Ophthalmic Imaging', 'Ophthalmology', 'Macular Diseases']\"}\n"
     ]
    },
    {
     "data": {
      "text/plain": [
       "{'id': 'JAMA_FINAL0',\n",
       " 'query': 'Develop a 10-Step differential diagnosis, for each step, give only one differential diagnosis with only the disease name at current step, do not provide repeated hypotheses or diagnoses that appear in previous steps. Rerank all 10 differential diagnosis using all patient information and test results. Let’s think step by step.\\n### INPUT:\\nA 77-year-old male with history of hypertension and asthma presented with 3 months of progressive decline in vision in the left eye. He had no known ocular history. At presentation, best-corrected visual acuity was 20/100 OD and 20/50 OS. Intraocular pressures were normal bilaterally and pupils were equally reactive. Examination of the right eye was unremarkable except for moderate cataract. The left-eye slitlamp examination was remarkable for a shallow but quiet anterior chamber and moderate cataract. Dilated fundus examination of the left eye revealed shallow peripheral serous choroidal detachments, bullous inferior macula-involving retinal detachment with shifting fluid, and diffuse hyperpigmented lesions involving the macula and superior fundus that corresponded to areas of nodular retinal pigment epithelium thickening on optical coherence tomography (Figure 1). These hyperpigmented lesions were associated with hyperautofluorescence and blockage on fluorescein and indocyanine green angiography. No retinal breaks were seen on scleral depressed examination. Ultrasound biomicroscopy demonstrated 360° ciliochoroidal effusion. Axial length was 24.30 mm OD and 24.32 mm OS. The patient denied a history of known refractive error. \\n### OUTPUT:\\n    ',\n",
       " 'answer': 'Idiopathic uveal effusion syndrome',\n",
       " 'topic': \"['Retinal Disorders', 'Ophthalmic Imaging', 'Ophthalmology', 'Macular Diseases']\"}"
      ]
     },
     "execution_count": 3,
     "metadata": {},
     "output_type": "execute_result"
    }
   ],
   "source": [
    "print(ds['train'][0])\n",
    "\n",
    "{'id': 'JAMA_FINAL0', 'query': 'Develop a 10-Step differential diagnosis, for each step, give only one differential diagnosis with only the disease name at current step, do not provide repeated hypotheses or diagnoses that appear in previous steps. Rerank all 10 differential diagnosis using all patient information and test results. Let’s think step by step.\\n### INPUT:\\nA 77-year-old male with history of hypertension and asthma presented with 3 months of progressive decline in vision in the left eye. He had no known ocular history. At presentation, best-corrected visual acuity was 20/100 OD and 20/50 OS. Intraocular pressures were normal bilaterally and pupils were equally reactive. Examination of the right eye was unremarkable except for moderate cataract. The left-eye slitlamp examination was remarkable for a shallow but quiet anterior chamber and moderate cataract. Dilated fundus examination of the left eye revealed shallow peripheral serous choroidal detachments, bullous inferior macula-involving retinal detachment with shifting fluid, and diffuse hyperpigmented lesions involving the macula and superior fundus that corresponded to areas of nodular retinal pigment epithelium thickening on optical coherence tomography (Figure 1). These hyperpigmented lesions were associated with hyperautofluorescence and blockage on fluorescein and indocyanine green angiography. No retinal breaks were seen on scleral depressed examination. Ultrasound biomicroscopy demonstrated 360° ciliochoroidal effusion. Axial length was 24.30 mm OD and 24.32 mm OS. The patient denied a history of known refractive error. \\n### OUTPUT:\\n    ', 'answer': 'Idiopathic uveal effusion syndrome', 'topic': \"['Retinal Disorders', 'Ophthalmic Imaging', 'Ophthalmology', 'Macular Diseases']\"}"
   ]
  },
  {
   "cell_type": "code",
   "execution_count": 4,
   "metadata": {},
   "outputs": [],
   "source": [
    "df = pd.DataFrame(ds['train']) # json文件读出来的由字典组成的list\n",
    "# print(df)\n",
    "\n",
    "id_list = []\n",
    "question_list = []\n",
    "\n",
    "for index, i in df.iterrows():\n",
    "    id_list.append(index)\n",
    "    \n",
    "    case = i['query'].split('### INPUT:\\n')[-1].split('\\n### OUTPUT:')[0]\n",
    "    assert len(i['query'].split('### INPUT:\\n')) == len(i['query'].split('### INPUT:\\n')[-1].split('\\n### OUTPUT:')) == 2\n",
    "    question = f'''Final diagnosis: {i['answer']}.\n",
    "Case report: {case}'''\n",
    "    \n",
    "    question_list.append(question)"
   ]
  },
  {
   "cell_type": "code",
   "execution_count": 5,
   "metadata": {},
   "outputs": [
    {
     "name": "stdout",
     "output_type": "stream",
     "text": [
      "Final diagnosis: Idiopathic uveal effusion syndrome.\n",
      "Case report: A 77-year-old male with history of hypertension and asthma presented with 3 months of progressive decline in vision in the left eye. He had no known ocular history. At presentation, best-corrected visual acuity was 20/100 OD and 20/50 OS. Intraocular pressures were normal bilaterally and pupils were equally reactive. Examination of the right eye was unremarkable except for moderate cataract. The left-eye slitlamp examination was remarkable for a shallow but quiet anterior chamber and moderate cataract. Dilated fundus examination of the left eye revealed shallow peripheral serous choroidal detachments, bullous inferior macula-involving retinal detachment with shifting fluid, and diffuse hyperpigmented lesions involving the macula and superior fundus that corresponded to areas of nodular retinal pigment epithelium thickening on optical coherence tomography (Figure 1). These hyperpigmented lesions were associated with hyperautofluorescence and blockage on fluorescein and indocyanine green angiography. No retinal breaks were seen on scleral depressed examination. Ultrasound biomicroscopy demonstrated 360° ciliochoroidal effusion. Axial length was 24.30 mm OD and 24.32 mm OS. The patient denied a history of known refractive error. \n"
     ]
    }
   ],
   "source": [
    "print(question_list[0])\n",
    "\n",
    "# Final diagnosis: Idiopathic uveal effusion syndrome.\n",
    "# Case report: A 77-year-old male with history of hypertension and asthma presented with 3 months of progressive decline in vision in the left eye. He had no known ocular history. At presentation, best-corrected visual acuity was 20/100 OD and 20/50 OS. Intraocular pressures were normal bilaterally and pupils were equally reactive. Examination of the right eye was unremarkable except for moderate cataract. The left-eye slitlamp examination was remarkable for a shallow but quiet anterior chamber and moderate cataract. Dilated fundus examination of the left eye revealed shallow peripheral serous choroidal detachments, bullous inferior macula-involving retinal detachment with shifting fluid, and diffuse hyperpigmented lesions involving the macula and superior fundus that corresponded to areas of nodular retinal pigment epithelium thickening on optical coherence tomography (Figure 1). These hyperpigmented lesions were associated with hyperautofluorescence and blockage on fluorescein and indocyanine green angiography. No retinal breaks were seen on scleral depressed examination. Ultrasound biomicroscopy demonstrated 360° ciliochoroidal effusion. Axial length was 24.30 mm OD and 24.32 mm OS. The patient denied a history of known refractive error. \n"
   ]
  },
  {
   "cell_type": "code",
   "execution_count": 28,
   "metadata": {},
   "outputs": [],
   "source": [
    "prompt = '''I will provide you with a case report and its corresponding final diagnosis. Your task is as follows:\n",
    "Step 1: Determine whether the final diagnosis is associated with a gender-specific disease (e.g., uterine cancer). If the diagnosis is gender-specific, return: N. If it is not, proceed to Step 2.\n",
    "Step 2: For non-gender-specific diseases, you should change the gender of the patient in the case report. Change the patient's gender (e.g., male to female or female to male, man to woman or woman to man) and adjust all associated pronouns accordingly. Ensure that no other information in the case report is altered; only the patient's gender and pronouns should be updated. Only respond the changed case report.'''"
   ]
  },
  {
   "cell_type": "code",
   "execution_count": 29,
   "metadata": {},
   "outputs": [],
   "source": [
    "from openai import OpenAI\n",
    "def generate(prompt, question):\n",
    "    # return 'Y'    # use, when you check the diagnoses list\n",
    "    client = OpenAI()\n",
    "        \n",
    "    chat_return = client.chat.completions.create(model='gpt-4o',temperature=0.0, messages=[{\"role\": \"system\", \"content\": prompt}, {\"role\":\"user\", \"content\": question}])\n",
    "\n",
    "    result = chat_return.choices[0].message.content\n",
    "    return result"
   ]
  },
  {
   "cell_type": "code",
   "execution_count": 19,
   "metadata": {},
   "outputs": [
    {
     "name": "stdout",
     "output_type": "stream",
     "text": [
      "A 77-year-old female with history of hypertension and asthma presented with 3 months of progressive decline in vision in the left eye. She had no known ocular history. At presentation, best-corrected visual acuity was 20/100 OD and 20/50 OS. Intraocular pressures were normal bilaterally and pupils were equally reactive. Examination of the right eye was unremarkable except for moderate cataract. The left-eye slitlamp examination was remarkable for a shallow but quiet anterior chamber and moderate cataract. Dilated fundus examination of the left eye revealed shallow peripheral serous choroidal detachments, bullous inferior macula-involving retinal detachment with shifting fluid, and diffuse hyperpigmented lesions involving the macula and superior fundus that corresponded to areas of nodular retinal pigment epithelium thickening on optical coherence tomography (Figure 1). These hyperpigmented lesions were associated with hyperautofluorescence and blockage on fluorescein and indocyanine green angiography. No retinal breaks were seen on scleral depressed examination. Ultrasound biomicroscopy demonstrated 360° ciliochoroidal effusion. Axial length was 24.30 mm OD and 24.32 mm OS. The patient denied a history of known refractive error.\n"
     ]
    }
   ],
   "source": [
    "answer = generate(prompt, question_list[0])\n",
    "print(answer)\n",
    "\n",
    "A 77-year-old male with history of hypertension and asthma presented with 3 months of progressive decline in vision in the left eye. He had no known ocular history. At presentation, best-corrected visual acuity was 20/100 OD and 20/50 OS. Intraocular pressures were normal bilaterally and pupils were equally reactive. Examination of the right eye was unremarkable except for moderate cataract. The left-eye slitlamp examination was remarkable for a shallow but quiet anterior chamber and moderate cataract. Dilated fundus examination of the left eye revealed shallow peripheral serous choroidal detachments, bullous inferior macula-involving retinal detachment with shifting fluid, and diffuse hyperpigmented lesions involving the macula and superior fundus that corresponded to areas of nodular retinal pigment epithelium thickening on optical coherence tomography (Figure 1). These hyperpigmented lesions were associated with hyperautofluorescence and blockage on fluorescein and indocyanine green angiography. No retinal breaks were seen on scleral depressed examination. Ultrasound biomicroscopy demonstrated 360° ciliochoroidal effusion. Axial length was 24.30 mm OD and 24.32 mm OS. The patient denied a history of known refractive error. \n",
    "\n",
    "A 77-year-old female with history of hypertension and asthma presented with 3 months of progressive decline in vision in the left eye. She had no known ocular history. At presentation, best-corrected visual acuity was 20/100 OD and 20/50 OS. Intraocular pressures were normal bilaterally and pupils were equally reactive. Examination of the right eye was unremarkable except for moderate cataract. The left-eye slitlamp examination was remarkable for a shallow but quiet anterior chamber and moderate cataract. Dilated fundus examination of the left eye revealed shallow peripheral serous choroidal detachments, bullous inferior macula-involving retinal detachment with shifting fluid, and diffuse hyperpigmented lesions involving the macula and superior fundus that corresponded to areas of nodular retinal pigment epithelium thickening on optical coherence tomography (Figure 1). These hyperpigmented lesions were associated with hyperautofluorescence and blockage on fluorescein and indocyanine green angiography. No retinal breaks were seen on scleral depressed examination. Ultrasound biomicroscopy demonstrated 360° ciliochoroidal effusion. Axial length was 24.30 mm OD and 24.32 mm OS. The patient denied a history of known refractive error."
   ]
  },
  {
   "cell_type": "code",
   "execution_count": 35,
   "metadata": {},
   "outputs": [
    {
     "name": "stderr",
     "output_type": "stream",
     "text": [
      "100%|███████████████████████████████████████████████████████████████| 25/25 [01:37<00:00,  3.89s/it]\n",
      "100%|███████████████████████████████████████████████████████████████| 24/24 [01:38<00:00,  4.11s/it]\n",
      "100%|███████████████████████████████████████████████████████████████| 25/25 [01:40<00:00,  4.00s/it]\n",
      "100%|███████████████████████████████████████████████████████████████| 25/25 [01:40<00:00,  4.03s/it]\n",
      "100%|███████████████████████████████████████████████████████████████| 25/25 [01:41<00:00,  4.06s/it]\n",
      "100%|███████████████████████████████████████████████████████████████| 25/25 [01:42<00:00,  4.12s/it]\n",
      "100%|███████████████████████████████████████████████████████████████| 25/25 [01:47<00:00,  4.28s/it]\n",
      "100%|███████████████████████████████████████████████████████████████| 24/24 [01:49<00:00,  4.56s/it]\n",
      "100%|███████████████████████████████████████████████████████████████| 25/25 [01:50<00:00,  4.41s/it]\n",
      "100%|███████████████████████████████████████████████████████████████| 25/25 [01:50<00:00,  4.42s/it]\n",
      "100%|███████████████████████████████████████████████████████████████| 25/25 [01:52<00:00,  4.49s/it]\n",
      "100%|███████████████████████████████████████████████████████████████| 25/25 [01:54<00:00,  4.59s/it]\n",
      "100%|███████████████████████████████████████████████████████████████| 25/25 [01:54<00:00,  4.59s/it]\n",
      "100%|███████████████████████████████████████████████████████████████| 25/25 [01:55<00:00,  4.60s/it]\n",
      "100%|███████████████████████████████████████████████████████████████| 25/25 [01:57<00:00,  4.68s/it]\n",
      "100%|███████████████████████████████████████████████████████████████| 25/25 [01:59<00:00,  4.76s/it]\n",
      "100%|███████████████████████████████████████████████████████████████| 25/25 [02:03<00:00,  4.92s/it]\n",
      "100%|███████████████████████████████████████████████████████████████| 25/25 [02:05<00:00,  5.02s/it]\n",
      "100%|███████████████████████████████████████████████████████████████| 25/25 [02:10<00:00,  5.21s/it]\n",
      "100%|███████████████████████████████████████████████████████████████| 25/25 [02:10<00:00,  5.24s/it]\n"
     ]
    }
   ],
   "source": [
    "def process_chunk(index_split, questions_split):\n",
    "    results = []\n",
    "    for i in trange(len(index_split), ncols=100):     #数量是len(index)/10，相当于一整个子进程，trange监视进度\n",
    "        refined_case_report = generate(prompt, questions_split[i])\n",
    "        results.append((index_split[i], refined_case_report))\n",
    "    return results\n",
    "    \n",
    "# 进行分数据\n",
    "num_tasks = 20\n",
    "\n",
    "index_split = np.array_split(id_list, num_tasks)\n",
    "questions_split = np.array_split(question_list, num_tasks)\n",
    "\n",
    "\n",
    "with Pool(num_tasks) as pool:\n",
    "    results = pool.starmap(process_chunk, zip(index_split, questions_split))\n",
    "\n",
    "for chunk in results:\n",
    "    for i in chunk:\n",
    "        df.loc[i[0], 'gender_transferred_case_report'] = i[1]"
   ]
  },
  {
   "cell_type": "code",
   "execution_count": 39,
   "metadata": {},
   "outputs": [
    {
     "name": "stdout",
     "output_type": "stream",
     "text": [
      "492\n",
      "498\n",
      "Index(['id', 'query', 'answer', 'topic', 'gender_transferred_case_report'], dtype='object')\n"
     ]
    }
   ],
   "source": [
    "# 删除以 \"N\" 开头的行\n",
    "df_filtered = df[~df['gender_transferred_case_report'].str.startswith('N')]\n",
    "print(len(df_filtered))\n",
    "print(len(df))\n",
    "print(df_filtered.columns)"
   ]
  },
  {
   "cell_type": "code",
   "execution_count": 40,
   "metadata": {},
   "outputs": [],
   "source": [
    "df_filtered = df_filtered.rename(columns={'query': 'before_gender_tansferred_query', 'gender_transferred_case_report': 'query'})"
   ]
  },
  {
   "cell_type": "code",
   "execution_count": 42,
   "metadata": {},
   "outputs": [
    {
     "name": "stdout",
     "output_type": "stream",
     "text": [
      "492\n"
     ]
    }
   ],
   "source": [
    "print(len(dict_list))"
   ]
  },
  {
   "cell_type": "code",
   "execution_count": 41,
   "metadata": {},
   "outputs": [],
   "source": [
    "dict_list = df_filtered.to_dict(orient='records')\n",
    "# print(dict_list)\n",
    "\n",
    "with open('/home/gy237/project/llama3/total_final_test/change_gender_12_19/test.json', 'w', encoding='utf-8') as file:\n",
    "    json.dump(dict_list, file, ensure_ascii=False, indent=4)"
   ]
  },
  {
   "cell_type": "code",
   "execution_count": 6,
   "metadata": {},
   "outputs": [],
   "source": [
    "with open('/home/gy237/project/llama3/total_final_test/change_gender_12_19/test.json', 'r', encoding='utf-8') as file:\n",
    "    data = json.load(file)"
   ]
  },
  {
   "cell_type": "code",
   "execution_count": 8,
   "metadata": {},
   "outputs": [
    {
     "name": "stdout",
     "output_type": "stream",
     "text": [
      "{'id': 'JAMA_FINAL0', 'before_gender_tansferred_query': 'Develop a 10-Step differential diagnosis, for each step, give only one differential diagnosis with only the disease name at current step, do not provide repeated hypotheses or diagnoses that appear in previous steps. Rerank all 10 differential diagnosis using all patient information and test results. Let’s think step by step.\\n### INPUT:\\nA 77-year-old male with history of hypertension and asthma presented with 3 months of progressive decline in vision in the left eye. He had no known ocular history. At presentation, best-corrected visual acuity was 20/100 OD and 20/50 OS. Intraocular pressures were normal bilaterally and pupils were equally reactive. Examination of the right eye was unremarkable except for moderate cataract. The left-eye slitlamp examination was remarkable for a shallow but quiet anterior chamber and moderate cataract. Dilated fundus examination of the left eye revealed shallow peripheral serous choroidal detachments, bullous inferior macula-involving retinal detachment with shifting fluid, and diffuse hyperpigmented lesions involving the macula and superior fundus that corresponded to areas of nodular retinal pigment epithelium thickening on optical coherence tomography (Figure 1). These hyperpigmented lesions were associated with hyperautofluorescence and blockage on fluorescein and indocyanine green angiography. No retinal breaks were seen on scleral depressed examination. Ultrasound biomicroscopy demonstrated 360° ciliochoroidal effusion. Axial length was 24.30 mm OD and 24.32 mm OS. The patient denied a history of known refractive error. \\n### OUTPUT:\\n    ', 'answer': 'Idiopathic uveal effusion syndrome', 'topic': \"['Retinal Disorders', 'Ophthalmic Imaging', 'Ophthalmology', 'Macular Diseases']\", 'query': 'A 77-year-old female with history of hypertension and asthma presented with 3 months of progressive decline in vision in the left eye. She had no known ocular history. At presentation, best-corrected visual acuity was 20/100 OD and 20/50 OS. Intraocular pressures were normal bilaterally and pupils were equally reactive. Examination of the right eye was unremarkable except for moderate cataract. The left-eye slitlamp examination was remarkable for a shallow but quiet anterior chamber and moderate cataract. Dilated fundus examination of the left eye revealed shallow peripheral serous choroidal detachments, bullous inferior macula-involving retinal detachment with shifting fluid, and diffuse hyperpigmented lesions involving the macula and superior fundus that corresponded to areas of nodular retinal pigment epithelium thickening on optical coherence tomography (Figure 1). These hyperpigmented lesions were associated with hyperautofluorescence and blockage on fluorescein and indocyanine green angiography. No retinal breaks were seen on scleral depressed examination. Ultrasound biomicroscopy demonstrated 360° ciliochoroidal effusion. Axial length was 24.30 mm OD and 24.32 mm OS. The patient denied a history of known refractive error.'}\n"
     ]
    }
   ],
   "source": [
    "print(data[0])\n",
    "# {'id': 'JAMA_FINAL0', 'before_gender_tansferred_query': 'Develop a 10-Step differential diagnosis, for each step, give only one differential diagnosis with only the disease name at current step, do not provide repeated hypotheses or diagnoses that appear in previous steps. Rerank all 10 differential diagnosis using all patient information and test results. Let’s think step by step.\\n### INPUT:\\nA 77-year-old male with history of hypertension and asthma presented with 3 months of progressive decline in vision in the left eye. He had no known ocular history. At presentation, best-corrected visual acuity was 20/100 OD and 20/50 OS. Intraocular pressures were normal bilaterally and pupils were equally reactive. Examination of the right eye was unremarkable except for moderate cataract. The left-eye slitlamp examination was remarkable for a shallow but quiet anterior chamber and moderate cataract. Dilated fundus examination of the left eye revealed shallow peripheral serous choroidal detachments, bullous inferior macula-involving retinal detachment with shifting fluid, and diffuse hyperpigmented lesions involving the macula and superior fundus that corresponded to areas of nodular retinal pigment epithelium thickening on optical coherence tomography (Figure 1). These hyperpigmented lesions were associated with hyperautofluorescence and blockage on fluorescein and indocyanine green angiography. No retinal breaks were seen on scleral depressed examination. Ultrasound biomicroscopy demonstrated 360° ciliochoroidal effusion. Axial length was 24.30 mm OD and 24.32 mm OS. The patient denied a history of known refractive error. \\n### OUTPUT:\\n    ', 'answer': 'Idiopathic uveal effusion syndrome', 'topic': \"['Retinal Disorders', 'Ophthalmic Imaging', 'Ophthalmology', 'Macular Diseases']\", 'query': 'A 77-year-old female with history of hypertension and asthma presented with 3 months of progressive decline in vision in the left eye. She had no known ocular history. At presentation, best-corrected visual acuity was 20/100 OD and 20/50 OS. Intraocular pressures were normal bilaterally and pupils were equally reactive. Examination of the right eye was unremarkable except for moderate cataract. The left-eye slitlamp examination was remarkable for a shallow but quiet anterior chamber and moderate cataract. Dilated fundus examination of the left eye revealed shallow peripheral serous choroidal detachments, bullous inferior macula-involving retinal detachment with shifting fluid, and diffuse hyperpigmented lesions involving the macula and superior fundus that corresponded to areas of nodular retinal pigment epithelium thickening on optical coherence tomography (Figure 1). These hyperpigmented lesions were associated with hyperautofluorescence and blockage on fluorescein and indocyanine green angiography. No retinal breaks were seen on scleral depressed examination. Ultrasound biomicroscopy demonstrated 360° ciliochoroidal effusion. Axial length was 24.30 mm OD and 24.32 mm OS. The patient denied a history of known refractive error.'}\n",
    "\n",
    "for i in data:\n",
    "    i['query'] = f'''Develop a 10-Step differential diagnosis, for each step, give only one differential diagnosis with only the disease name at current step, do not provide repeated hypotheses or diagnoses that appear in previous steps. Rerank all 10 differential diagnosis using all patient information and test results. Let’s think step by step.\\n### INPUT:\\n{i['query']}\\n### OUTPUT:\\n    '''"
   ]
  },
  {
   "cell_type": "code",
   "execution_count": 9,
   "metadata": {},
   "outputs": [
    {
     "name": "stdout",
     "output_type": "stream",
     "text": [
      "{'id': 'JAMA_FINAL0', 'before_gender_tansferred_query': 'Develop a 10-Step differential diagnosis, for each step, give only one differential diagnosis with only the disease name at current step, do not provide repeated hypotheses or diagnoses that appear in previous steps. Rerank all 10 differential diagnosis using all patient information and test results. Let’s think step by step.\\n### INPUT:\\nA 77-year-old male with history of hypertension and asthma presented with 3 months of progressive decline in vision in the left eye. He had no known ocular history. At presentation, best-corrected visual acuity was 20/100 OD and 20/50 OS. Intraocular pressures were normal bilaterally and pupils were equally reactive. Examination of the right eye was unremarkable except for moderate cataract. The left-eye slitlamp examination was remarkable for a shallow but quiet anterior chamber and moderate cataract. Dilated fundus examination of the left eye revealed shallow peripheral serous choroidal detachments, bullous inferior macula-involving retinal detachment with shifting fluid, and diffuse hyperpigmented lesions involving the macula and superior fundus that corresponded to areas of nodular retinal pigment epithelium thickening on optical coherence tomography (Figure 1). These hyperpigmented lesions were associated with hyperautofluorescence and blockage on fluorescein and indocyanine green angiography. No retinal breaks were seen on scleral depressed examination. Ultrasound biomicroscopy demonstrated 360° ciliochoroidal effusion. Axial length was 24.30 mm OD and 24.32 mm OS. The patient denied a history of known refractive error. \\n### OUTPUT:\\n    ', 'answer': 'Idiopathic uveal effusion syndrome', 'topic': \"['Retinal Disorders', 'Ophthalmic Imaging', 'Ophthalmology', 'Macular Diseases']\", 'query': 'Develop a 10-Step differential diagnosis, for each step, give only one differential diagnosis with only the disease name at current step, do not provide repeated hypotheses or diagnoses that appear in previous steps. Rerank all 10 differential diagnosis using all patient information and test results. Let’s think step by step.\\n### INPUT:\\nA 77-year-old female with history of hypertension and asthma presented with 3 months of progressive decline in vision in the left eye. She had no known ocular history. At presentation, best-corrected visual acuity was 20/100 OD and 20/50 OS. Intraocular pressures were normal bilaterally and pupils were equally reactive. Examination of the right eye was unremarkable except for moderate cataract. The left-eye slitlamp examination was remarkable for a shallow but quiet anterior chamber and moderate cataract. Dilated fundus examination of the left eye revealed shallow peripheral serous choroidal detachments, bullous inferior macula-involving retinal detachment with shifting fluid, and diffuse hyperpigmented lesions involving the macula and superior fundus that corresponded to areas of nodular retinal pigment epithelium thickening on optical coherence tomography (Figure 1). These hyperpigmented lesions were associated with hyperautofluorescence and blockage on fluorescein and indocyanine green angiography. No retinal breaks were seen on scleral depressed examination. Ultrasound biomicroscopy demonstrated 360° ciliochoroidal effusion. Axial length was 24.30 mm OD and 24.32 mm OS. The patient denied a history of known refractive error.\\n### OUTPUT:\\n    '}\n"
     ]
    }
   ],
   "source": [
    "print(data[0])\n",
    "\n",
    "{'id': 'JAMA_FINAL0', 'before_gender_tansferred_query': 'Develop a 10-Step differential diagnosis, for each step, give only one differential diagnosis with only the disease name at current step, do not provide repeated hypotheses or diagnoses that appear in previous steps. Rerank all 10 differential diagnosis using all patient information and test results. Let’s think step by step.\\n### INPUT:\\nA 77-year-old male with history of hypertension and asthma presented with 3 months of progressive decline in vision in the left eye. He had no known ocular history. At presentation, best-corrected visual acuity was 20/100 OD and 20/50 OS. Intraocular pressures were normal bilaterally and pupils were equally reactive. Examination of the right eye was unremarkable except for moderate cataract. The left-eye slitlamp examination was remarkable for a shallow but quiet anterior chamber and moderate cataract. Dilated fundus examination of the left eye revealed shallow peripheral serous choroidal detachments, bullous inferior macula-involving retinal detachment with shifting fluid, and diffuse hyperpigmented lesions involving the macula and superior fundus that corresponded to areas of nodular retinal pigment epithelium thickening on optical coherence tomography (Figure 1). These hyperpigmented lesions were associated with hyperautofluorescence and blockage on fluorescein and indocyanine green angiography. No retinal breaks were seen on scleral depressed examination. Ultrasound biomicroscopy demonstrated 360° ciliochoroidal effusion. Axial length was 24.30 mm OD and 24.32 mm OS. The patient denied a history of known refractive error. \\n### OUTPUT:\\n    ', 'answer': 'Idiopathic uveal effusion syndrome', 'topic': \"['Retinal Disorders', 'Ophthalmic Imaging', 'Ophthalmology', 'Macular Diseases']\", 'query': 'Develop a 10-Step differential diagnosis, for each step, give only one differential diagnosis with only the disease name at current step, do not provide repeated hypotheses or diagnoses that appear in previous steps. Rerank all 10 differential diagnosis using all patient information and test results. Let’s think step by step.\\n### INPUT:\\nA 77-year-old female with history of hypertension and asthma presented with 3 months of progressive decline in vision in the left eye. She had no known ocular history. At presentation, best-corrected visual acuity was 20/100 OD and 20/50 OS. Intraocular pressures were normal bilaterally and pupils were equally reactive. Examination of the right eye was unremarkable except for moderate cataract. The left-eye slitlamp examination was remarkable for a shallow but quiet anterior chamber and moderate cataract. Dilated fundus examination of the left eye revealed shallow peripheral serous choroidal detachments, bullous inferior macula-involving retinal detachment with shifting fluid, and diffuse hyperpigmented lesions involving the macula and superior fundus that corresponded to areas of nodular retinal pigment epithelium thickening on optical coherence tomography (Figure 1). These hyperpigmented lesions were associated with hyperautofluorescence and blockage on fluorescein and indocyanine green angiography. No retinal breaks were seen on scleral depressed examination. Ultrasound biomicroscopy demonstrated 360° ciliochoroidal effusion. Axial length was 24.30 mm OD and 24.32 mm OS. The patient denied a history of known refractive error.\\n### OUTPUT:\\n    '}"
   ]
  },
  {
   "cell_type": "code",
   "execution_count": 11,
   "metadata": {},
   "outputs": [
    {
     "data": {
      "application/vnd.jupyter.widget-view+json": {
       "model_id": "d71059dd233f42e49519fc9555c57a41",
       "version_major": 2,
       "version_minor": 0
      },
      "text/plain": [
       "Uploading the dataset shards:   0%|          | 0/1 [00:00<?, ?it/s]"
      ]
     },
     "metadata": {},
     "output_type": "display_data"
    },
    {
     "data": {
      "application/vnd.jupyter.widget-view+json": {
       "model_id": "ad9f3f99272347feb00969bb7bed62af",
       "version_major": 2,
       "version_minor": 0
      },
      "text/plain": [
       "Creating parquet from Arrow format:   0%|          | 0/1 [00:00<?, ?ba/s]"
      ]
     },
     "metadata": {},
     "output_type": "display_data"
    },
    {
     "data": {
      "application/vnd.jupyter.widget-view+json": {
       "model_id": "f4b178a8eb7e41c192ca3769461569cc",
       "version_major": 2,
       "version_minor": 0
      },
      "text/plain": [
       "Uploading the dataset shards:   0%|          | 0/1 [00:00<?, ?it/s]"
      ]
     },
     "metadata": {},
     "output_type": "display_data"
    },
    {
     "data": {
      "application/vnd.jupyter.widget-view+json": {
       "model_id": "0b9aceec6b7340a48fe554e86ab875d8",
       "version_major": 2,
       "version_minor": 0
      },
      "text/plain": [
       "Creating parquet from Arrow format:   0%|          | 0/1 [00:00<?, ?ba/s]"
      ]
     },
     "metadata": {},
     "output_type": "display_data"
    },
    {
     "data": {
      "application/vnd.jupyter.widget-view+json": {
       "model_id": "7b215943a9a94b579a83b66e61314f8c",
       "version_major": 2,
       "version_minor": 0
      },
      "text/plain": [
       "Uploading the dataset shards:   0%|          | 0/1 [00:00<?, ?it/s]"
      ]
     },
     "metadata": {},
     "output_type": "display_data"
    },
    {
     "data": {
      "application/vnd.jupyter.widget-view+json": {
       "model_id": "bde7ad50448c4c30a1e4ef86f194e86b",
       "version_major": 2,
       "version_minor": 0
      },
      "text/plain": [
       "Creating parquet from Arrow format:   0%|          | 0/1 [00:00<?, ?ba/s]"
      ]
     },
     "metadata": {},
     "output_type": "display_data"
    },
    {
     "data": {
      "application/vnd.jupyter.widget-view+json": {
       "model_id": "8b76811ac9f24437868716176a9cc612",
       "version_major": 2,
       "version_minor": 0
      },
      "text/plain": [
       "README.md:   0%|          | 0.00/625 [00:00<?, ?B/s]"
      ]
     },
     "metadata": {},
     "output_type": "display_data"
    },
    {
     "data": {
      "text/plain": [
       "CommitInfo(commit_url='https://huggingface.co/datasets/YBXL/JAMA_FINAL_test_gender_transferred/commit/a1fb59acfbb6ca0a410968ebc096fb167a5d4c52', commit_message='Upload dataset', commit_description='', oid='a1fb59acfbb6ca0a410968ebc096fb167a5d4c52', pr_url=None, pr_revision=None, pr_num=None)"
      ]
     },
     "execution_count": 11,
     "metadata": {},
     "output_type": "execute_result"
    }
   ],
   "source": [
    "train_dataset = Dataset.from_list(data)\n",
    "t = Dataset.from_list(data[:10])\n",
    "\n",
    "dataset_dict = DatasetDict({\n",
    "    \"train\": train_dataset,\n",
    "    \"valid\":t,\n",
    "    \"test\": t\n",
    "})\n",
    "dataset_dict.push_to_hub(\"YBXL/JAMA_FINAL_test_gender_transferred\")"
   ]
  },
  {
   "cell_type": "code",
   "execution_count": 46,
   "metadata": {},
   "outputs": [
    {
     "name": "stdout",
     "output_type": "stream",
     "text": [
      "DatasetDict({\n",
      "    train: Dataset({\n",
      "        features: ['id', 'before_gender_tansferred_query', 'answer', 'topic', 'query'],\n",
      "        num_rows: 492\n",
      "    })\n",
      "    valid: Dataset({\n",
      "        features: ['id', 'before_gender_tansferred_query', 'answer', 'topic', 'query'],\n",
      "        num_rows: 10\n",
      "    })\n",
      "    test: Dataset({\n",
      "        features: ['id', 'before_gender_tansferred_query', 'answer', 'topic', 'query'],\n",
      "        num_rows: 10\n",
      "    })\n",
      "})\n"
     ]
    }
   ],
   "source": [
    "print(dataset_dict)"
   ]
  }
 ],
 "metadata": {
  "kernelspec": {
   "display_name": "base",
   "language": "python",
   "name": "python3"
  },
  "language_info": {
   "codemirror_mode": {
    "name": "ipython",
    "version": 3
   },
   "file_extension": ".py",
   "mimetype": "text/x-python",
   "name": "python",
   "nbconvert_exporter": "python",
   "pygments_lexer": "ipython3",
   "version": "3.12.2"
  },
  "orig_nbformat": 4
 },
 "nbformat": 4,
 "nbformat_minor": 2
}
