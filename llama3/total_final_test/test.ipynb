{
 "cells": [
  {
   "cell_type": "code",
   "execution_count": 32,
   "metadata": {},
   "outputs": [],
   "source": [
    "import openai\n",
    "import os\n",
    "import datetime\n",
    "from openai import OpenAI\n",
    "import argparse\n",
    "import pandas as pd\n",
    "import json\n",
    "import re\n",
    "from tqdm import tqdm\n",
    "import csv\n",
    "\n",
    "# parse the prediction\n",
    "def segement_predict(predict):\n",
    "\n",
    "    prediction = predict.replace('\\n\\n','\\n')\n",
    "    pattern = r'(\\d+)\\.\\s*([^\\d\\n]+(?:\\n(?!\\d+\\.)[^\\d\\n]+)*)'\n",
    "    diagnosis_list = re.findall(pattern, prediction)\n",
    "\n",
    "    # if len(processed_list) < 10:\n",
    "    #     processed_list = prediction.split('\\n')\n",
    "\n",
    "    if len(diagnosis_list) > 10:\n",
    "            diagnosis_list = diagnosis_list[-10:]\n",
    "\n",
    "    return diagnosis_list\n"
   ]
  },
  {
   "cell_type": "code",
   "execution_count": 33,
   "metadata": {},
   "outputs": [
    {
     "name": "stdout",
     "output_type": "stream",
     "text": [
      "Number of Error list: 102\n"
     ]
    }
   ],
   "source": [
    "name = 'HuatuoGPT-o1-70B_JAMAFinalAll'\n",
    "\n",
    "# HuatuoGPT-o1-70B_JAMAFinalAll\n",
    "# HuatuoGPT-o1-7B_JAMAFinalAll\n",
    "\n",
    "file_name = f'/home/gy237/project/llama3/total_final_test/Llama3.1_final_test/{name}.jsonl'\n",
    "\n",
    "save_path = file_name.split('.jsonl')[0]\n",
    "\n",
    "\n",
    "data = []\n",
    "with open(file_name, 'r', encoding='utf-8') as file:\n",
    "    for line in file:\n",
    "        item = json.loads(line.strip())\n",
    "        data.append(item)\n",
    "\n",
    "\n",
    "acc_dic = {}\n",
    "error_list = []\n",
    "for i in data:\n",
    "    diagnosis = i['true']\n",
    "    predict = i['predict']\n",
    "\n",
    "    diagnosis_list = segement_predict(predict)\n",
    "\n",
    "    processed_list = [str(number) + '. ' + diagnosis.strip() for number, diagnosis in diagnosis_list]\n",
    "    numbers = [number for number, diagnosis in diagnosis_list]\n",
    "    i['predict_list'] = processed_list\n",
    "\n",
    "    if len(numbers) < 10:\n",
    "        error_list.append({'predict': i['predict'], 'predict_list': i['predict_list']})\n",
    "    elif numbers[0] != '1' or numbers[-1] != '10':\n",
    "        error_list.append({'predict': i['predict'], 'predict_list': i['predict_list']})\n",
    "\n",
    "\n",
    "print(f'Number of Error list: {len(error_list)}')\n",
    "with open(f'{save_path}_error.json', 'w', encoding='utf-8') as file:\n",
    "    json.dump(error_list, file, ensure_ascii=False, indent=4)"
   ]
  }
 ],
 "metadata": {
  "kernelspec": {
   "display_name": "base",
   "language": "python",
   "name": "python3"
  },
  "language_info": {
   "codemirror_mode": {
    "name": "ipython",
    "version": 3
   },
   "file_extension": ".py",
   "mimetype": "text/x-python",
   "name": "python",
   "nbconvert_exporter": "python",
   "pygments_lexer": "ipython3",
   "version": "3.12.2"
  },
  "orig_nbformat": 4
 },
 "nbformat": 4,
 "nbformat_minor": 2
}
