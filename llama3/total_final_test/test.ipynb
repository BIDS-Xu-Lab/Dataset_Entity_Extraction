{
 "cells": [
  {
   "cell_type": "code",
   "execution_count": 2,
   "metadata": {},
   "outputs": [],
   "source": [
    "import openai\n",
    "import os\n",
    "import datetime\n",
    "from openai import OpenAI\n",
    "import argparse\n",
    "import pandas as pd\n",
    "import json\n",
    "import re\n",
    "from tqdm import tqdm\n",
    "import csv\n",
    "\n",
    "def test_diagnose(each_diagnosis,true_diagnosis):\n",
    "    return each_diagnosis\n",
    "\n",
    "\n",
    "\n",
    "# parse the prediction\n",
    "def segement_predict(predict):\n",
    "\n",
    "    prediction = predict.replace('\\n\\n','\\n')\n",
    "    pattern = r'(\\d+)\\.\\s*([^\\d\\n]+(?:\\n(?!\\d+\\.)[^\\d\\n]+)*)'\n",
    "    diagnosis_list = re.findall(pattern, prediction)\n",
    "    processed_list = [diagnosis.strip() for number, diagnosis in diagnosis_list if int(number) <= 10]\n",
    "\n",
    "    if len(processed_list) < 10:\n",
    "        processed_list = prediction.split('\\n')\n",
    "\n",
    "    if len(processed_list) > 10:\n",
    "            processed_list = processed_list[-10:]\n",
    "\n",
    "    return processed_list\n",
    "\n",
    "\n",
    "\n",
    "def main(file_name):\n",
    "    save_path = file_name.split('.jsonl')[0]\n",
    "\n",
    "    tltle = ['ID', 'case_report', 'gold', 'predict', 'topic', 'top1', 'top2', 'top3', 'top4', 'top5', 'top6', 'top7', 'top8', 'top9', 'top10']\n",
    "    with open(f'{save_path}_test.csv', mode='a', newline='') as file:\n",
    "        writer = csv.writer(file)\n",
    "        writer.writerow(tltle)\n",
    "\n",
    "    data = []\n",
    "    with open(file_name, 'r', encoding='utf-8') as file:\n",
    "        for line in file:\n",
    "            item = json.loads(line.strip())\n",
    "            data.append(item)\n",
    "\n",
    "    print('-'*100)\n",
    "    acc_dic = {}\n",
    "    error_list = []\n",
    "    for i in tqdm(data, ncols=100):\n",
    "        diagnosis = i['true']\n",
    "        predict = i['predict']\n",
    "\n",
    "        processed_list = segement_predict(predict)\n",
    "        if len(processed_list) < 10:\n",
    "            error_list.append(i)\n",
    "\n",
    "        i['acc'] = []\n",
    "        for prediction in processed_list:\n",
    "            acc = test_diagnose(prediction, diagnosis)\n",
    "            i['acc'].append(acc)\n",
    "\n",
    "        if len(i['acc']) >10:\n",
    "            i['acc'] = i['acc'][-10:]\n",
    "        elif len(i['acc']) < 10:\n",
    "            i['acc'] = i['acc'] + [0]*(10-len(i['acc']))\n",
    "\n",
    "\n",
    "        entry = [i['id'], i['input'], i['true'], i['predict'], i['topic']] + i['acc']\n",
    "        with open(f'{save_path}_1111111111111.csv', mode='a', newline='') as file:\n",
    "            writer = csv.writer(file)\n",
    "            writer.writerow(entry)\n",
    "\n",
    "\n",
    "    print(f'Number of daignoses less than 10: {len(error_list)}')\n",
    "    with open(f'{save_path}_error.json', 'w', encoding='utf-8') as file:\n",
    "        json.dump(error_list, file, ensure_ascii=False, indent=4)\n"
   ]
  },
  {
   "cell_type": "code",
   "execution_count": 3,
   "metadata": {},
   "outputs": [
    {
     "name": "stdout",
     "output_type": "stream",
     "text": [
      "file_path: /home/gy237/project/llama3/total_final_test/Llama3.1_final_test/Llama-3.3-70B-Instruct_JAMAFinalAll.jsonl\n",
      "----------------------------------------------------------------------------------------------------\n"
     ]
    },
    {
     "name": "stderr",
     "output_type": "stream",
     "text": [
      "100%|███████████████████████████████████████████████████████████| 498/498 [00:00<00:00, 3069.06it/s]"
     ]
    },
    {
     "name": "stdout",
     "output_type": "stream",
     "text": [
      "Number of daignoses less than 10: 0\n"
     ]
    },
    {
     "name": "stderr",
     "output_type": "stream",
     "text": [
      "\n"
     ]
    }
   ],
   "source": [
    "\n",
    "name = 'Llama-3.3-70B-Instruct_JAMAFinalAll'\n",
    "file_path = f'/home/gy237/project/llama3/total_final_test/Llama3.1_final_test/{name}.jsonl'\n",
    "\n",
    "print('file_path:', file_path)\n",
    "main(file_path)"
   ]
  }
 ],
 "metadata": {
  "kernelspec": {
   "display_name": "base",
   "language": "python",
   "name": "python3"
  },
  "language_info": {
   "codemirror_mode": {
    "name": "ipython",
    "version": 3
   },
   "file_extension": ".py",
   "mimetype": "text/x-python",
   "name": "python",
   "nbconvert_exporter": "python",
   "pygments_lexer": "ipython3",
   "version": "3.12.2"
  },
  "orig_nbformat": 4
 },
 "nbformat": 4,
 "nbformat_minor": 2
}
