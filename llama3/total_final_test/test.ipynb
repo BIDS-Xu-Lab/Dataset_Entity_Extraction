{
 "cells": [
  {
   "cell_type": "code",
   "execution_count": 1,
   "metadata": {},
   "outputs": [],
   "source": [
    "import openai\n",
    "import os\n",
    "import datetime\n",
    "from openai import OpenAI\n",
    "import argparse\n",
    "import pandas as pd\n",
    "import json\n",
    "import re\n",
    "from tqdm import tqdm\n",
    "import csv"
   ]
  },
  {
   "cell_type": "code",
   "execution_count": 2,
   "metadata": {},
   "outputs": [],
   "source": [
    "def spl(predict, key):\n",
    "    predict = predict.split(key)[1]\n",
    "    prediction = predict.replace('\\n\\n','\\n')\n",
    "    pattern = r'(\\d+)\\.\\s*([^\\d\\n]+(?:\\n(?!\\d+\\.)[^\\d\\n]+)*)'\n",
    "    diagnosis_list = re.findall(pattern, prediction)\n",
    "    if len(diagnosis_list) > 10:\n",
    "        diagnosis_list = diagnosis_list[:10]\n",
    "    return diagnosis_list"
   ]
  },
  {
   "cell_type": "code",
   "execution_count": 3,
   "metadata": {},
   "outputs": [],
   "source": [
    "# Llama-3.3-70B-Instruct_JAMAFinalAll\n",
    "def segement_predict(predict):\n",
    "    diagnosis_list = []\n",
    "    key_word = ['RANKING', 'Reranked', 're-ranking', 'ranking', 'rerank']\n",
    "\n",
    "    for i in key_word:\n",
    "        if i in predict:\n",
    "            diagnosis_list = spl(predict, i)\n",
    "        if len(diagnosis_list) == 10:\n",
    "            break\n",
    "    \n",
    "\n",
    "    if len(diagnosis_list)<10:\n",
    "        if 'The final answer is' in predict:\n",
    "            predict = predict.split('The final answer is')[0]\n",
    "        prediction = predict.replace('\\n\\n','\\n')\n",
    "        pattern = r'(\\d+)\\.\\s*([^\\d\\n]+(?:\\n(?!\\d+\\.)[^\\d\\n]+)*)'\n",
    "        diagnosis_list = re.findall(pattern, prediction)\n",
    "\n",
    "\n",
    "    index = 0\n",
    "    for i in range(len(diagnosis_list)):\n",
    "        if diagnosis_list[i][0] == '1':\n",
    "            index = i\n",
    "\n",
    "    diagnosis_list = diagnosis_list[index:]\n",
    "\n",
    "    processed_list = [diagnosis.strip() for number, diagnosis in diagnosis_list]\n",
    "    processed_list = [i.split('\\n')[0] if '\\n' in i else i for i in processed_list]\n",
    "    numbers = [number for number, diagnosis in diagnosis_list]\n",
    "\n",
    "    return processed_list, numbers"
   ]
  },
  {
   "cell_type": "code",
   "execution_count": 6,
   "metadata": {},
   "outputs": [
    {
     "name": "stdout",
     "output_type": "stream",
     "text": [
      "Number of Error list: 95\n",
      "Saved: 403\n"
     ]
    }
   ],
   "source": [
    "name = 'HuatuoGPT-o1-70B_JAMAFinalAll'\n",
    "\n",
    "# Llama-3.3-70B-Instruct_JAMAFinalAll\n",
    "# HuatuoGPT-o1-70B_JAMAFinalAll\n",
    "# HuatoGPT-o1-7B_JAMAFinalAll\n",
    "\n",
    "file_name = f'/home/gy237/project/llama3/total_final_test/Llama3.1_final_test/{name}.jsonl'\n",
    "save_name = file_name.split('.jsonl')[0]\n",
    "\n",
    "data = []\n",
    "with open(file_name, 'r', encoding='utf-8') as file:\n",
    "    for line in file:\n",
    "        item = json.loads(line.strip())\n",
    "        data.append(item)\n",
    "\n",
    "\n",
    "acc_dic = {}\n",
    "error_list = []\n",
    "save = []\n",
    "for i in data:\n",
    "    diagnosis = i['true']\n",
    "    predict = i['predict']\n",
    "\n",
    "    processed_list, numbers = segement_predict(predict)\n",
    "    i['predict_list'] = processed_list\n",
    "\n",
    "    save_list = [f'{numbers[i]}. {processed_list[i]}' for i in range(len(numbers))]\n",
    "    if len(numbers) < 10:\n",
    "        error_list.append({'predict': i['predict'], 'predict_list': save_list})\n",
    "    elif numbers[0] != '1' or numbers[-1] != '10':\n",
    "        error_list.append({'predict': i['predict'], 'predict_list': save_list})\n",
    "\n",
    "    else:\n",
    "        save.append({'predict_list': save_list})\n",
    "\n",
    "\n",
    "print(f'Number of Error list: {len(error_list)}')\n",
    "print(f'Saved: {len(save)}')\n",
    "\n",
    "with open(f'{save_name}_error.json', 'w', encoding='utf-8') as file:\n",
    "    json.dump(error_list, file, ensure_ascii=False, indent=4)\n",
    "with open(f'{save_name}_save.json', 'w', encoding='utf-8') as file:\n",
    "    json.dump(save, file, ensure_ascii=False, indent=4)"
   ]
  }
 ],
 "metadata": {
  "kernelspec": {
   "display_name": "base",
   "language": "python",
   "name": "python3"
  },
  "language_info": {
   "codemirror_mode": {
    "name": "ipython",
    "version": 3
   },
   "file_extension": ".py",
   "mimetype": "text/x-python",
   "name": "python",
   "nbconvert_exporter": "python",
   "pygments_lexer": "ipython3",
   "version": "3.12.2"
  },
  "orig_nbformat": 4
 },
 "nbformat": 4,
 "nbformat_minor": 2
}
