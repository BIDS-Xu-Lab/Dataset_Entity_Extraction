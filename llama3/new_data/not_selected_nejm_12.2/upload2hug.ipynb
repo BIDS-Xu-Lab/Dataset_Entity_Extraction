{
 "cells": [
  {
   "cell_type": "code",
   "execution_count": 2,
   "metadata": {},
   "outputs": [],
   "source": [
    "from datasets import load_dataset\n",
    "from datasets import Dataset, DatasetDict\n",
    "import pandas as pd"
   ]
  },
  {
   "cell_type": "code",
   "execution_count": null,
   "metadata": {},
   "outputs": [],
   "source": [
    "# 下载数据\n",
    "ds = load_dataset(\"YBXL/JAMA-reasoning-instruction\", cache_dir='/home/gy237/project/download_data')"
   ]
  },
  {
   "cell_type": "code",
   "execution_count": 27,
   "metadata": {},
   "outputs": [
    {
     "name": "stdout",
     "output_type": "stream",
     "text": [
      "{'entries': [{'content': \"Develop a 10-Step differential diagnosis, for each step, give only one differential diagnosis with only the disease name at the current step, do not provide repeated hypotheses or diagnoses that appear in previous steps. Rerank all 10 differential diagnoses using all patient information and test results. Let's think step by step.\\n### INPUT:\\nA woman in her 80s presented to the emergency room (ER) with a 2-week history of enlarging left parietal scalp mass. She initially was seen by her primary care practitioner, where neurological examination was nonfocal. The mass continued to enlarge and she developed progressive generalized weakness, slowed speech, and focal right-handed weakness. Acute onset of headache and decline in mental status prompted presentation to the ER. On examination an 8-cm left parietal mass was tender to palpation. Treatment with 4 mg of dexamethasone was initiated intravenously. All biochemical laboratory results were normal. Brain magnetic resonance imaging showed a large enhancing left frontal-parietal mass extending both extracranially and intracranially into the superior sagittal sinus (Figure). There was left frontal, parietal, and temporal bone involvement, and left dural thickening. Intracranially, there was adjacent vasogenic edema and associated mass effect. Computed tomographic (CT) scans of the chest, abdomen, and pelvis revealed a ground-glass sclerotic lesion of the right sacrum. Owing to involvement of the superior sagittal sinus and progressive growth, an ultrasound-guided core needle biopsy was performed.\", 'role': 'human'}, {'content': '### Step 1:\\nCutaneous abscess\\n\\n### Step 2:\\nSquamous cell carcinoma of the scalp\\n\\n### Step 3:\\nMeningioma\\n\\n### Step 4:\\nMetastatic carcinoma\\n\\n### Step 5:\\nNon-Hodgkin lymphoma\\n\\n### Step 6:\\nMultiple myeloma\\n\\n### Step 7:\\nPlasmacytoma\\n\\n### Step 8:\\nGlioblastoma multiforme\\n\\n### Step 9:\\nSkull osteomyelitis\\n\\n### Step 10:\\nAngiosarcoma of the scalp\\n\\n---\\n\\n### Reranked Differential Diagnoses:\\n\\n1. Non-Hodgkin lymphoma\\n2. Metastatic carcinoma\\n3. Meningioma\\n4. Multiple myeloma\\n5. Plasmacytoma\\n6. Angiosarcoma of the scalp\\n7. Glioblastoma multiforme\\n8. Squamous cell carcinoma of the scalp\\n9. Skull osteomyelitis\\n10. Cutaneous abscess', 'role': 'agent'}]}\n"
     ]
    }
   ],
   "source": [
    "print(ds['train'][0])"
   ]
  },
  {
   "cell_type": "code",
   "execution_count": 9,
   "metadata": {},
   "outputs": [
    {
     "name": "stdout",
     "output_type": "stream",
     "text": [
      "[{'content': \"Develop a 10-Step differential diagnosis, for each step, give only one differential diagnosis with only the disease name at the current step, do not provide repeated hypotheses or diagnoses that appear in previous steps. Rerank all 10 differential diagnoses using all patient information and test results. Let's think step by step.\\n### INPUT:\\nA 48-year-old man presented to the emergency department with a 1-week history of worsening right lower quadrant tenderness and fullness. This was associated with diarrhea, vomiting, fevers, and chills. He reported some relief of symptoms with loperamide. He denied any history of weight loss, melena, or hematochezia. Other than a previous open hemorrhoidectomy, the patient had no significant medical history. Of note, he had no family history of intestinal disease.\\nOn examination, he had a fever with a temperature of 39°C and tachycardia with a heart rate of 102 beats per minute. On abdominal examination, there was localized tenderness with guarding and fullness in the right lower quadrant. Results from his blood laboratory investigations demonstrated leukocytosis, with white blood cell count of 17\\u202f000/µL (to convert to ×109/L, multiple by 0.001) and a C-reactive protein level of 205 mg/L (to convert to nmol/L, multiple by 9.524). However, given the clinical history, the patient underwent a computed tomographic (CT) scan of the abdomen and pelvis with intravenous contrast (Figure 1). He then underwent an exploratory laparotomy.\", 'role': 'human'}, {'content': \"### OUTPUT:\\n\\n**Step 1:** Appendicitis  \\n**Step 2:** Cecal Diverticulitis  \\n**Step 3:** Crohn's Disease  \\n**Step 4:** Infectious Enterocolitis  \\n**Step 5:** Meckel's Diverticulitis  \\n**Step 6:** Psoas Abscess  \\n**Step 7:** Ureteric Colic  \\n**Step 8:** Right-Sided Colon Cancer  \\n**Step 9:** Mesenteric Ischemia  \\n**Step 10:** Epiploic Appendagitis  \\n\\n**Re-ranked Differential Diagnoses:**\\n\\n1. Appendicitis  \\n2. Cecal Diverticulitis  \\n3. Meckel's Diverticulitis  \\n4. Crohn's Disease  \\n5. Psoas Abscess  \\n6. Infectious Enterocolitis  \\n7. Ureteric Colic  \\n8. Epiploic Appendagitis  \\n9. Right-Sided Colon Cancer  \\n10. Mesenteric Ischemia\", 'role': 'agent'}]\n"
     ]
    }
   ],
   "source": [
    "print(ds['train']['entries'][0])\n",
    "[{'content': \"Develop a 10-Step differential diagnosis, for each step, give only one differential diagnosis with only the disease name at the current step, do not provide repeated hypotheses or diagnoses that appear in previous steps. Rerank all 10 differential diagnoses using all patient information and test results. Let's think step by step.\\n### INPUT:\\nA woman in her 80s presented to the emergency room (ER) with a 2-week history of enlarging left parietal scalp mass. She initially was seen by her primary care practitioner, where neurological examination was nonfocal. The mass continued to enlarge and she developed progressive generalized weakness, slowed speech, and focal right-handed weakness. Acute onset of headache and decline in mental status prompted presentation to the ER. On examination an 8-cm left parietal mass was tender to palpation. Treatment with 4 mg of dexamethasone was initiated intravenously. All biochemical laboratory results were normal. Brain magnetic resonance imaging showed a large enhancing left frontal-parietal mass extending both extracranially and intracranially into the superior sagittal sinus (Figure). There was left frontal, parietal, and temporal bone involvement, and left dural thickening. Intracranially, there was adjacent vasogenic edema and associated mass effect. Computed tomographic (CT) scans of the chest, abdomen, and pelvis revealed a ground-glass sclerotic lesion of the right sacrum. Owing to involvement of the superior sagittal sinus and progressive growth, an ultrasound-guided core needle biopsy was performed.\", 'role': 'human'}, {'content': '### Step 1:\\nCutaneous abscess\\n\\n### Step 2:\\nSquamous cell carcinoma of the scalp\\n\\n### Step 3:\\nMeningioma\\n\\n### Step 4:\\nMetastatic carcinoma\\n\\n### Step 5:\\nNon-Hodgkin lymphoma\\n\\n### Step 6:\\nMultiple myeloma\\n\\n### Step 7:\\nPlasmacytoma\\n\\n### Step 8:\\nGlioblastoma multiforme\\n\\n### Step 9:\\nSkull osteomyelitis\\n\\n### Step 10:\\nAngiosarcoma of the scalp\\n\\n---\\n\\n### Reranked Differential Diagnoses:\\n\\n1. Non-Hodgkin lymphoma\\n2. Metastatic carcinoma\\n3. Meningioma\\n4. Multiple myeloma\\n5. Plasmacytoma\\n6. Angiosarcoma of the scalp\\n7. Glioblastoma multiforme\\n8. Squamous cell carcinoma of the scalp\\n9. Skull osteomyelitis\\n10. Cutaneous abscess', 'role': 'agent'}]"
   ]
  },
  {
   "cell_type": "code",
   "execution_count": 3,
   "metadata": {},
   "outputs": [],
   "source": [
    "new_data = pd.read_csv('/home/gy237/project/llama3/new_data/not_selected_nejm_12.2/not_selected_nejm_generated_top10.tsv', sep = '\\t')"
   ]
  },
  {
   "cell_type": "code",
   "execution_count": 4,
   "metadata": {},
   "outputs": [
    {
     "name": "stdout",
     "output_type": "stream",
     "text": [
      " A 48-year-old woman presented to the emergency department of this hospital with tingling of the right hand. One hour before presentation, the patient felt an acute “prickling and tingling” sensation diffusely on the right palm while she was reaching for a can of soda out of a vending machine. The sensation did not radiate to other areas of the hand or the arm, and it was not associated with decreased range of motion, tenderness, or joint pain. Although she presented to the emergency department 1 hour after the onset of symptoms, the tingling resolved before the examination, which took place approximately 80 minutes after presentation. The patient stated that she had recently traveled to Boston from New York City to visit museums, and she requested “accommodations” from medical personnel because she did not have a place to stay. On examination, the temperature was 36.9°C, the blood pressure 141/89 mm Hg, the heart rate 88 beats per minute, the respiratory rate 16 breaths per minute, and the oxygen saturation 99% while the patient was breathing ambient air. The weight was 70.9 kg, the height 160 cm, and the body-mass index (the weight in kilograms divided by the square of the height in meters) 27.7. The patient was described as having a labile affect, with rapid and tangential speech. The results of the remainder of the physical examination, including tests of neurologic function and examination of the muscles in the right hand and arm, were normal. The patient was discharged from the emergency department with a list of local shelters and hotels. Five hours after discharge, the patient felt recurrent tingling on the right palm, primarily along the radial-nerve distribution, and she again presented to the emergency department of this hospital. She reported that she had been unable to find a shelter and that she feared hotel staff would perform “unwanted sleep studies” or “gas” her. The results of the physical examination had not changed from several hours earlier. The patient was described as disheveled, unkempt, malodorous, and oriented to person and time. Examination revealed inconsistent thought processes and delusions of persecution. Urine toxicology screening was negative for amphetamines, barbiturates, benzodiazepines, cannabinoids, cocaine, opiates, and phencyclidine, and serum toxicology screening was negative for salicylates, acetaminophen, ethanol, and tricyclic antidepressants. A urine test for human chorionic gonadotropin was negative. Laboratory test results are shown in Table 1. Imaging studies were obtained. Dr. Brent P. Little: A radiograph of the right hand and wrist (Fig. 1) showed no acute fracture, dislocation, or soft-tissue abnormality; the joint spaces were preserved, and there were no joint erosions. Computed tomography (CT) of the head (Fig. 2), performed without the administration of intravenous contrast material, revealed no evidence of intracranial hemorrhage, mass, or acute territorial infarct. Dr. Crall: On evaluation by a psychiatrist, the patient incorrectly named the city and state as “Massatution” and “Boston,” respectively. Mental-status examination was notable for attentiveness to the interviewer, recall of two of five objects after 5 minutes, and the inability to subtract serial sevens and to repeat phrases. The patient’s score on the Montreal Cognitive Assessment was 21 (reference range, 26 to 30) on a scale of 0 to 30, with lower scores indicating greater cognitive impairment. She maintained eye contact and had no abnormal movements. Her speech was characterized by malapropisms and mispronunciations and was pressured. Her mood was described as happy, with a congruent affect. Her thought processes were described as tangential and disorganized. The results of the neurologic examination, including tests of cranial-nerve function, strength, and sensation to light touch, were normal. The patient reported no history of medical problems. She said that she had previously been a “volunteer client” at a psychiatric hospital in New York City but had not undergone psychiatric treatments or hospitalizations. A review of systems was negative for physical trauma, anorexia, weight loss, loss of energy, weakness, bleeding (menstrual cycles had stopped during the past year), headache, ataxia, dizziness, seizure, syncope, pain, depression, anhedonia, expansive mood, distractibility, anxiety, memory difficulties, sleep disturbance, auditory and visual hallucinations, suicidal ideation, and homicidal idea-tion. She took no medications and had no known allergies to medications. The patient reported the following information. She was born in the southeastern United States and grew up in an orphanage. She had skipped grades in elementary and high school because of high intelligence and then had obtained doctoral degrees in psychology from “Northwestern International University in Denmark” and “Panworld University in China.” Six years earlier, she had moved to New York City, where she lived in a downtown hotel. She was employed as a scientist to perform online research and volunteered for New York City hospitals and the U.S. Navy. She was unmarried and had no children, and she had no family or friends who could provide collateral information. She did not use alcohol, tobacco, or illicit drugs. Her family psychiatric and medical history was unknown, since she was adopted. She had no history of legal problems. Because of concern about the patient’s inability to protect herself in a new environment, given her impaired judgment and disorganized thinking, an order that authorized temporary involuntary hospitalization was implemented.1 The patient was admitted to the inpatient psychiatry unit. Results of urinalysis and the venous blood pH were normal; laboratory test results are shown in Table 1. Additional imaging studies were obtained. Dr. Little: A chest radiograph showed clear lungs. Magnetic resonance imaging (MRI) of the head (Fig. 2), performed without the administration of intravenous contrast material, revealed mild mucosal thickening in the paranasal sinus without acute intracranial abnormality. There was no evidence of infarct, such as intracranial mass, cerebral edema, or restricted diffusion, and there was no evidence of white-matter disease or volume loss. Dr. Crall: Laboratory test results that were obtained on the third hospital day are shown in Table 1. Results of additional diagnostic tests were received. \n"
     ]
    }
   ],
   "source": [
    "print(new_data.loc[16, 'presentation_of_case'])"
   ]
  },
  {
   "cell_type": "code",
   "execution_count": 35,
   "metadata": {},
   "outputs": [],
   "source": [
    "prompt = '''Develop a 10-Step differential diagnosis, for each step, give only one differential diagnosis with only the disease name at the current step, do not provide repeated hypotheses or diagnoses that appear in previous steps. Rerank all 10 differential diagnoses using all patient information and test results. Let's think step by step.\\n### INPUT:\\n'''"
   ]
  },
  {
   "cell_type": "code",
   "execution_count": 36,
   "metadata": {},
   "outputs": [
    {
     "name": "stdout",
     "output_type": "stream",
     "text": [
      "281\n",
      "1396\n"
     ]
    }
   ],
   "source": [
    "upload = []\n",
    "for index, row in new_data.iterrows():\n",
    "    question = prompt + row['refined_case_report']\n",
    "    answer = row['output']\n",
    "    upload.append({'entries': [{'content': question, 'role': 'human'}, {'content': answer, 'role': 'agent'}]})\n",
    "print(len(upload))\n",
    "for i in ds['train']:\n",
    "    upload.append(i)\n",
    "print(len(upload))"
   ]
  },
  {
   "cell_type": "code",
   "execution_count": 37,
   "metadata": {},
   "outputs": [
    {
     "data": {
      "application/vnd.jupyter.widget-view+json": {
       "model_id": "ac592fc24f6e46029aa8f28c21055c7c",
       "version_major": 2,
       "version_minor": 0
      },
      "text/plain": [
       "Uploading the dataset shards:   0%|          | 0/1 [00:00<?, ?it/s]"
      ]
     },
     "metadata": {},
     "output_type": "display_data"
    },
    {
     "data": {
      "application/vnd.jupyter.widget-view+json": {
       "model_id": "755a37318e364de1850dec9c0fa6dc90",
       "version_major": 2,
       "version_minor": 0
      },
      "text/plain": [
       "Creating parquet from Arrow format:   0%|          | 0/2 [00:00<?, ?ba/s]"
      ]
     },
     "metadata": {},
     "output_type": "display_data"
    },
    {
     "data": {
      "application/vnd.jupyter.widget-view+json": {
       "model_id": "ed51ac8f0bb04980a1b2891ebeee7d71",
       "version_major": 2,
       "version_minor": 0
      },
      "text/plain": [
       "Uploading the dataset shards:   0%|          | 0/1 [00:00<?, ?it/s]"
      ]
     },
     "metadata": {},
     "output_type": "display_data"
    },
    {
     "data": {
      "application/vnd.jupyter.widget-view+json": {
       "model_id": "ed975629b040420cb87ba467ac64e047",
       "version_major": 2,
       "version_minor": 0
      },
      "text/plain": [
       "Creating parquet from Arrow format:   0%|          | 0/1 [00:00<?, ?ba/s]"
      ]
     },
     "metadata": {},
     "output_type": "display_data"
    },
    {
     "data": {
      "application/vnd.jupyter.widget-view+json": {
       "model_id": "25b37497f1d94cee926fe7c0e7d0e922",
       "version_major": 2,
       "version_minor": 0
      },
      "text/plain": [
       "Uploading the dataset shards:   0%|          | 0/1 [00:00<?, ?it/s]"
      ]
     },
     "metadata": {},
     "output_type": "display_data"
    },
    {
     "data": {
      "application/vnd.jupyter.widget-view+json": {
       "model_id": "96721e96d665422188910c4e6283ea4d",
       "version_major": 2,
       "version_minor": 0
      },
      "text/plain": [
       "Creating parquet from Arrow format:   0%|          | 0/1 [00:00<?, ?ba/s]"
      ]
     },
     "metadata": {},
     "output_type": "display_data"
    },
    {
     "data": {
      "text/plain": [
       "CommitInfo(commit_url='https://huggingface.co/datasets/YBXL/NEJM-JAMA-reasoning-instruction/commit/d6383e19bde390ba3d2995a4f4ff2f5f84460d75', commit_message='Upload dataset', commit_description='', oid='d6383e19bde390ba3d2995a4f4ff2f5f84460d75', pr_url=None, pr_revision=None, pr_num=None)"
      ]
     },
     "execution_count": 37,
     "metadata": {},
     "output_type": "execute_result"
    }
   ],
   "source": [
    "train_dataset = Dataset.from_list(upload)\n",
    "t = Dataset.from_list(upload[:10])\n",
    "\n",
    "dataset_dict = DatasetDict({\n",
    "    \"train\": train_dataset,\n",
    "    \"valid\":t,\n",
    "    \"test\": t\n",
    "})\n",
    "dataset_dict.push_to_hub(\"YBXL/NEJM-JAMA-reasoning-instruction\")"
   ]
  },
  {
   "cell_type": "code",
   "execution_count": 32,
   "metadata": {},
   "outputs": [
    {
     "name": "stdout",
     "output_type": "stream",
     "text": [
      "{'entries': [{'content': 'Develop a 10-Step differential diagnosis, for each step, give only one differential diagnosis with only the disease name at the current step, do not provide repeated hypotheses or diagnoses that appear in previous steps. Rerank all 10 differential diagnoses using all patient information and test results. Let\\'s think step by step.\\n### INPUT:\\nA 14-month-old boy was assessed at the pediatric gastroenterology clinic of this hospital due to episodes of vomiting. He was delivered via cesarean section at another hospital to a 35-year-old mother, following a 39-week and 6-day uncomplicated pregnancy, due to arrest in the second stage of labor. Meconium was present at birth. His Apgar scores were 9 at both 1 and 5 minutes, and he weighed 2.9 kg (23rd percentile) (Fig. 1). Breastfeeding commenced immediately. Newborn screening tests, including those for congenital diseases, hearing, and critical congenital heart disease, were normal, and he was discharged on the fourth day.\\n\\nAt a routine check-up at 14 days old, his mother reported breastfeeding every 2 to 3 hours for 20 minutes, with the baby producing yellow, seedy stools post-feeding. His weight was 2.7 kg. The mother was advised to pump breast milk and fortify it with cow’s milk-based formula to reach 0.74 kcal/ml. Eight days later, his weight was 2.8 kg, prompting a recommendation to increase fortification to 0.81 kcal/ml.\\n\\nAt 26 days old, the infant vomited a small amount of clotted blood, leading his parents to take him to another hospital\\'s emergency department. They noted frequent non-projectile, non-bloody, non-bilious spit-ups after starting the fortified milk. The physical exam was normal, but stool tested positive for occult blood. He was monitored overnight without further hematemesis and discharged the next day.\\n\\nNine days later, at a follow-up, his weight remained 2.8 kg, and he was referred to a pediatric gastroenterologist at this hospital. At 37 days old, during the clinic visit, his mother reported he was consuming 60 ml of fortified milk every 2.5 hours, with occasional small-volume emesis but no further hematemesis. His stools were brown-green without visible blood or mucus. The examination showed an active infant with a strong cry, weighing 2.8 kg (<1st percentile) and measuring 55 cm (31st percentile). The abdomen was soft and non-tender, with normal bowel sounds. A rectal exam revealed guaiac-positive, brown stool. A diagnosis of cow’s milk protein allergy was made, and a hypoallergenic formula with 0.81 kcal/ml was recommended.\\n\\nThree weeks later, at 58 days old, the mother reported reduced emesis frequency and occasional mucus in stools, but no blood. The baby had nasal congestion and a \"gurgling\" sound during feeding. His weight was 3.6 kg. A rectal exam showed soft, guaiac-positive stool with mucus. Transition to an amino acid-based formula with 0.81 kcal/ml was advised.\\n\\nEight weeks later, at 16 weeks old, he returned to the clinic after experiencing small-volume emesis with dark-brown material resembling blood. His weight was 4.6 kg, and the rest of the exam was normal. Omeprazole was prescribed for possible GERD, and the formula was adjusted to 0.88 kcal/ml.\\n\\nAt 6 months, his parents reported increased emesis frequency, with vomiting after about 75% of feedings. His weight was 6.2 kg. The omeprazole dose was adjusted, and age-appropriate, dairy-free solids were introduced. A month later, at 7 months, he continued to gain weight and tolerated soft foods like carrots, avocados, and bananas without complications. No blood was seen in vomitus, and stools were normal. Cow’s milk protein was reintroduced without issues, and omeprazole was stopped.\\n\\nSix months later, at 13 months, his mother reported increased vomiting frequency. Omeprazole was prescribed again. Five weeks later, she stopped the medication after two weeks due to ineffectiveness. Post-meal, the child appeared uncomfortable, retched, and vomited, often inserting fingers into his mouth to induce vomiting. The vomitus contained undigested food, without blood or bile, and occurred mainly after pureed and solid foods, less so after milk. He frequently requested more food or milk shortly after vomiting. Dietary records showed he ate every 30 minutes, with meals including whole milk, oatmeal, banana, and rice puffs. Bowel movements were regular, twice daily, with soft stools and no visible blood or mucus. Developmental milestones were met, and immunizations were current. Hemoglobin and lead levels were normal. He received vitamin D supplements and had no known medication allergies. He lived with his parents in an urban New England area. His mother had anemia, while his father and younger sister were healthy. A maternal aunt had hyperthyroidism, his maternal grandmother had pancreatitis, and his maternal grandfather had hypertension.\\n\\nOn examination, the patient was active and appeared well, weighing 6.9 kg. The abdomen was soft with normal bowel sounds, without distention or tenderness. Rectal examination showed guaiac-negative stool. The rest of the examination was normal. Complete blood count and differential were normal, as was the IgE level for cow’s milk. Further diagnostic studies were conducted.', 'role': 'human'}, {'content': \"### 10-Step Differential Diagnosis\\n\\nStep 1: Gastroesophageal reflux disease\\n\\nStep 2: Cow's milk protein allergy\\n\\nStep 3: Pyloric stenosis\\n\\nStep 4: Esophageal motility disorder\\n\\nStep 5: Eosinophilic esophagitis\\n\\nStep 6: Congenital esophageal stenosis\\n\\nStep 7: Esophageal web or ring\\n\\nStep 8: Achalasia\\n\\nStep 9: Rumination syndrome\\n\\nStep 10: Intracranial pathology (e.g., increased intracranial pressure)\\n\\n### Reranked Differential Diagnoses Using All Patient Information and Test Results\\n\\n1. **Congenital esophageal stenosis**\\n\\n2. Esophageal web or ring\\n\\n3. Esophageal motility disorder\\n\\n4. Eosinophilic esophagitis\\n\\n5. Rumination syndrome\\n\\n6. Gastroesophageal reflux disease\\n\\n7. Cow's milk protein allergy\\n\\n8. Achalasia\\n\\n9. Pyloric stenosis\\n\\n10. Intracranial pathology\", 'role': 'agent'}]}\n"
     ]
    }
   ],
   "source": [
    "print(dataset_dict['train'][0])"
   ]
  },
  {
   "cell_type": "code",
   "execution_count": 84,
   "metadata": {},
   "outputs": [],
   "source": [
    "prompt = '''I will provide you with a case report and its corresponding final diagnosis. Your task is as follows:\n",
    "Step 1: Determine whether the final diagnosis is associated with a gender-specific disease (e.g., uterine cancer). If the diagnosis is gender-specific, return: N. If it is not, proceed to Step 2.\n",
    "Step 2: For non-gender-specific diseases, you should change the gender of the patient in the case report. Change the patient's gender (e.g., male to female or female to male, man to woman or woman to man) and adjust all associated pronouns accordingly. Ensure that no other information in the case report is altered; only the patient's gender and pronouns should be updated. Only respond the changed case report.'''"
   ]
  },
  {
   "cell_type": "code",
   "execution_count": 86,
   "metadata": {},
   "outputs": [],
   "source": [
    "case_report = '''Final diagnosis: Pernicious anemia (vitamin B12 deficiency).\n",
    "Case report:  A 48-year-old woman presented to the emergency department of this hospital with tingling of the right hand. One hour before presentation, the patient felt an acute “prickling and tingling” sensation diffusely on the right palm while she was reaching for a can of soda out of a vending machine. The sensation did not radiate to other areas of the hand or the arm, and it was not associated with decreased range of motion, tenderness, or joint pain. Although she presented to the emergency department 1 hour after the onset of symptoms, the tingling resolved before the examination, which took place approximately 80 minutes after presentation. The patient stated that she had recently traveled to Boston from New York City to visit museums, and she requested “accommodations” from medical personnel because she did not have a place to stay. On examination, the temperature was 36.9°C, the blood pressure 141/89 mm Hg, the heart rate 88 beats per minute, the respiratory rate 16 breaths per minute, and the oxygen saturation 99% while the patient was breathing ambient air. The weight was 70.9 kg, the height 160 cm, and the body-mass index (the weight in kilograms divided by the square of the height in meters) 27.7. The patient was described as having a labile affect, with rapid and tangential speech. The results of the remainder of the physical examination, including tests of neurologic function and examination of the muscles in the right hand and arm, were normal. The patient was discharged from the emergency department with a list of local shelters and hotels. Five hours after discharge, the patient felt recurrent tingling on the right palm, primarily along the radial-nerve distribution, and she again presented to the emergency department of this hospital. She reported that she had been unable to find a shelter and that she feared hotel staff would perform “unwanted sleep studies” or “gas” her. The results of the physical examination had not changed from several hours earlier. The patient was described as disheveled, unkempt, malodorous, and oriented to person and time. Examination revealed inconsistent thought processes and delusions of persecution. Urine toxicology screening was negative for amphetamines, barbiturates, benzodiazepines, cannabinoids, cocaine, opiates, and phencyclidine, and serum toxicology screening was negative for salicylates, acetaminophen, ethanol, and tricyclic antidepressants. A urine test for human chorionic gonadotropin was negative. Laboratory test results are shown in Table 1. Imaging studies were obtained. Dr. Brent P. Little: A radiograph of the right hand and wrist (Fig. 1) showed no acute fracture, dislocation, or soft-tissue abnormality; the joint spaces were preserved, and there were no joint erosions. Computed tomography (CT) of the head (Fig. 2), performed without the administration of intravenous contrast material, revealed no evidence of intracranial hemorrhage, mass, or acute territorial infarct. Dr. Crall: On evaluation by a psychiatrist, the patient incorrectly named the city and state as “Massatution” and “Boston,” respectively. Mental-status examination was notable for attentiveness to the interviewer, recall of two of five objects after 5 minutes, and the inability to subtract serial sevens and to repeat phrases. The patient’s score on the Montreal Cognitive Assessment was 21 (reference range, 26 to 30) on a scale of 0 to 30, with lower scores indicating greater cognitive impairment. She maintained eye contact and had no abnormal movements. Her speech was characterized by malapropisms and mispronunciations and was pressured. Her mood was described as happy, with a congruent affect. Her thought processes were described as tangential and disorganized. The results of the neurologic examination, including tests of cranial-nerve function, strength, and sensation to light touch, were normal. The patient reported no history of medical problems. She said that she had previously been a “volunteer client” at a psychiatric hospital in New York City but had not undergone psychiatric treatments or hospitalizations. A review of systems was negative for physical trauma, anorexia, weight loss, loss of energy, weakness, bleeding (menstrual cycles had stopped during the past year), headache, ataxia, dizziness, seizure, syncope, pain, depression, anhedonia, expansive mood, distractibility, anxiety, memory difficulties, sleep disturbance, auditory and visual hallucinations, suicidal ideation, and homicidal idea-tion. She took no medications and had no known allergies to medications. The patient reported the following information. She was born in the southeastern United States and grew up in an orphanage. She had skipped grades in elementary and high school because of high intelligence and then had obtained doctoral degrees in psychology from “Northwestern International University in Denmark” and “Panworld University in China.” Six years earlier, she had moved to New York City, where she lived in a downtown hotel. She was employed as a scientist to perform online research and volunteered for New York City hospitals and the U.S. Navy. She was unmarried and had no children, and she had no family or friends who could provide collateral information. She did not use alcohol, tobacco, or illicit drugs. Her family psychiatric and medical history was unknown, since she was adopted. She had no history of legal problems. Because of concern about the patient’s inability to protect herself in a new environment, given her impaired judgment and disorganized thinking, an order that authorized temporary involuntary hospitalization was implemented.1 The patient was admitted to the inpatient psychiatry unit. Results of urinalysis and the venous blood pH were normal; laboratory test results are shown in Table 1. Additional imaging studies were obtained. Dr. Little: A chest radiograph showed clear lungs. Magnetic resonance imaging (MRI) of the head (Fig. 2), performed without the administration of intravenous contrast material, revealed mild mucosal thickening in the paranasal sinus without acute intracranial abnormality. There was no evidence of infarct, such as intracranial mass, cerebral edema, or restricted diffusion, and there was no evidence of white-matter disease or volume loss. Dr. Crall: Laboratory test results that were obtained on the third hospital day are shown in Table 1. Results of additional diagnostic tests were received. '''"
   ]
  },
  {
   "cell_type": "code",
   "execution_count": 87,
   "metadata": {},
   "outputs": [],
   "source": [
    "from openai import OpenAI\n",
    "def generate(prompt, question):\n",
    "    # return 'Y'    # use, when you check the diagnoses list\n",
    "    client = OpenAI()\n",
    "        \n",
    "    chat_return = client.chat.completions.create(model='gpt-4o',temperature=0.0, messages=[{\"role\": \"system\", \"content\": prompt}, {\"role\":\"user\", \"content\": question}])\n",
    "\n",
    "    result = chat_return.choices[0].message.content\n",
    "    return result"
   ]
  },
  {
   "cell_type": "code",
   "execution_count": 88,
   "metadata": {},
   "outputs": [
    {
     "name": "stdout",
     "output_type": "stream",
     "text": [
      "A 48-year-old man presented to the emergency department of this hospital with tingling of the right hand. One hour before presentation, the patient felt an acute \"prickling and tingling\" sensation diffusely on the right palm while he was reaching for a can of soda out of a vending machine. The sensation did not radiate to other areas of the hand or the arm, and it was not associated with decreased range of motion, tenderness, or joint pain. Although he presented to the emergency department 1 hour after the onset of symptoms, the tingling resolved before the examination, which took place approximately 80 minutes after presentation. The patient stated that he had recently traveled to Boston from New York City to visit museums, and he requested \"accommodations\" from medical personnel because he did not have a place to stay. On examination, the temperature was 36.9°C, the blood pressure 141/89 mm Hg, the heart rate 88 beats per minute, the respiratory rate 16 breaths per minute, and the oxygen saturation 99% while the patient was breathing ambient air. The weight was 70.9 kg, the height 160 cm, and the body-mass index (the weight in kilograms divided by the square of the height in meters) 27.7. The patient was described as having a labile affect, with rapid and tangential speech. The results of the remainder of the physical examination, including tests of neurologic function and examination of the muscles in the right hand and arm, were normal. The patient was discharged from the emergency department with a list of local shelters and hotels. Five hours after discharge, the patient felt recurrent tingling on the right palm, primarily along the radial-nerve distribution, and he again presented to the emergency department of this hospital. He reported that he had been unable to find a shelter and that he feared hotel staff would perform \"unwanted sleep studies\" or \"gas\" him. The results of the physical examination had not changed from several hours earlier. The patient was described as disheveled, unkempt, malodorous, and oriented to person and time. Examination revealed inconsistent thought processes and delusions of persecution. Urine toxicology screening was negative for amphetamines, barbiturates, benzodiazepines, cannabinoids, cocaine, opiates, and phencyclidine, and serum toxicology screening was negative for salicylates, acetaminophen, ethanol, and tricyclic antidepressants. A urine test for human chorionic gonadotropin was negative. Laboratory test results are shown in Table 1. Imaging studies were obtained. Dr. Brent P. Little: A radiograph of the right hand and wrist (Fig. 1) showed no acute fracture, dislocation, or soft-tissue abnormality; the joint spaces were preserved, and there were no joint erosions. Computed tomography (CT) of the head (Fig. 2), performed without the administration of intravenous contrast material, revealed no evidence of intracranial hemorrhage, mass, or acute territorial infarct. Dr. Crall: On evaluation by a psychiatrist, the patient incorrectly named the city and state as \"Massatution\" and \"Boston,\" respectively. Mental-status examination was notable for attentiveness to the interviewer, recall of two of five objects after 5 minutes, and the inability to subtract serial sevens and to repeat phrases. The patient’s score on the Montreal Cognitive Assessment was 21 (reference range, 26 to 30) on a scale of 0 to 30, with lower scores indicating greater cognitive impairment. He maintained eye contact and had no abnormal movements. His speech was characterized by malapropisms and mispronunciations and was pressured. His mood was described as happy, with a congruent affect. His thought processes were described as tangential and disorganized. The results of the neurologic examination, including tests of cranial-nerve function, strength, and sensation to light touch, were normal. The patient reported no history of medical problems. He said that he had previously been a \"volunteer client\" at a psychiatric hospital in New York City but had not undergone psychiatric treatments or hospitalizations. A review of systems was negative for physical trauma, anorexia, weight loss, loss of energy, weakness, bleeding, headache, ataxia, dizziness, seizure, syncope, pain, depression, anhedonia, expansive mood, distractibility, anxiety, memory difficulties, sleep disturbance, auditory and visual hallucinations, suicidal ideation, and homicidal ideation. He took no medications and had no known allergies to medications. The patient reported the following information. He was born in the southeastern United States and grew up in an orphanage. He had skipped grades in elementary and high school because of high intelligence and then had obtained doctoral degrees in psychology from \"Northwestern International University in Denmark\" and \"Panworld University in China.\" Six years earlier, he had moved to New York City, where he lived in a downtown hotel. He was employed as a scientist to perform online research and volunteered for New York City hospitals and the U.S. Navy. He was unmarried and had no children, and he had no family or friends who could provide collateral information. He did not use alcohol, tobacco, or illicit drugs. His family psychiatric and medical history was unknown, since he was adopted. He had no history of legal problems. Because of concern about the patient’s inability to protect himself in a new environment, given his impaired judgment and disorganized thinking, an order that authorized temporary involuntary hospitalization was implemented. The patient was admitted to the inpatient psychiatry unit. Results of urinalysis and the venous blood pH were normal; laboratory test results are shown in Table 1. Additional imaging studies were obtained. Dr. Little: A chest radiograph showed clear lungs. Magnetic resonance imaging (MRI) of the head (Fig. 2), performed without the administration of intravenous contrast material, revealed mild mucosal thickening in the paranasal sinus without acute intracranial abnormality. There was no evidence of infarct, such as intracranial mass, cerebral edema, or restricted diffusion, and there was no evidence of white-matter disease or volume loss. Dr. Crall: Laboratory test results that were obtained on the third hospital day are shown in Table 1. Results of additional diagnostic tests were received.\n"
     ]
    }
   ],
   "source": [
    "answer = generate(prompt, case_report)\n",
    "print(answer)\n",
    "\n",
    "A 48-year-old man presented to the emergency department of this hospital with tingling of the right hand. One hour before presentation, the patient felt an acute \"prickling and tingling\" sensation diffusely on the right palm while he was reaching for a can of soda out of a vending machine. The sensation did not radiate to other areas of the hand or the arm, and it was not associated with decreased range of motion, tenderness, or joint pain. Although he presented to the emergency department 1 hour after the onset of symptoms, the tingling resolved before the examination, which took place approximately 80 minutes after presentation. The patient stated that he had recently traveled to Boston from New York City to visit museums, and he requested \"accommodations\" from medical personnel because he did not have a place to stay. On examination, the temperature was 36.9°C, the blood pressure 141/89 mm Hg, the heart rate 88 beats per minute, the respiratory rate 16 breaths per minute, and the oxygen saturation 99% while the patient was breathing ambient air. The weight was 70.9 kg, the height 160 cm, and the body-mass index (the weight in kilograms divided by the square of the height in meters) 27.7. The patient was described as having a labile affect, with rapid and tangential speech. The results of the remainder of the physical examination, including tests of neurologic function and examination of the muscles in the right hand and arm, were normal. The patient was discharged from the emergency department with a list of local shelters and hotels. Five hours after discharge, the patient felt recurrent tingling on the right palm, primarily along the radial-nerve distribution, and he again presented to the emergency department of this hospital. He reported that he had been unable to find a shelter and that he feared hotel staff would perform \"unwanted sleep studies\" or \"gas\" him. The results of the physical examination had not changed from several hours earlier. The patient was described as disheveled, unkempt, malodorous, and oriented to person and time. Examination revealed inconsistent thought processes and delusions of persecution. Urine toxicology screening was negative for amphetamines, barbiturates, benzodiazepines, cannabinoids, cocaine, opiates, and phencyclidine, and serum toxicology screening was negative for salicylates, acetaminophen, ethanol, and tricyclic antidepressants. A urine test for human chorionic gonadotropin was negative. Laboratory test results are shown in Table 1. Imaging studies were obtained. Dr. Brent P. Little: A radiograph of the right hand and wrist (Fig. 1) showed no acute fracture, dislocation, or soft-tissue abnormality; the joint spaces were preserved, and there were no joint erosions. Computed tomography (CT) of the head (Fig. 2), performed without the administration of intravenous contrast material, revealed no evidence of intracranial hemorrhage, mass, or acute territorial infarct. Dr. Crall: On evaluation by a psychiatrist, the patient incorrectly named the city and state as \"Massatution\" and \"Boston,\" respectively. Mental-status examination was notable for attentiveness to the interviewer, recall of two of five objects after 5 minutes, and the inability to subtract serial sevens and to repeat phrases. The patient’s score on the Montreal Cognitive Assessment was 21 (reference range, 26 to 30) on a scale of 0 to 30, with lower scores indicating greater cognitive impairment. He maintained eye contact and had no abnormal movements. His speech was characterized by malapropisms and mispronunciations and was pressured. His mood was described as happy, with a congruent affect. His thought processes were described as tangential and disorganized. The results of the neurologic examination, including tests of cranial-nerve function, strength, and sensation to light touch, were normal. The patient reported no history of medical problems. He said that he had previously been a \"volunteer client\" at a psychiatric hospital in New York City but had not undergone psychiatric treatments or hospitalizations. A review of systems was negative for physical trauma, anorexia, weight loss, loss of energy, weakness, bleeding, headache, ataxia, dizziness, seizure, syncope, pain, depression, anhedonia, expansive mood, distractibility, anxiety, memory difficulties, sleep disturbance, auditory and visual hallucinations, suicidal ideation, and homicidal ideation. He took no medications and had no known allergies to medications. The patient reported the following information. He was born in the southeastern United States and grew up in an orphanage. He had skipped grades in elementary and high school because of high intelligence and then had obtained doctoral degrees in psychology from \"Northwestern International University in Denmark\" and \"Panworld University in China.\" Six years earlier, he had moved to New York City, where he lived in a downtown hotel. He was employed as a scientist to perform online research and volunteered for New York City hospitals and the U.S. Navy. He was unmarried and had no children, and he had no family or friends who could provide collateral information. He did not use alcohol, tobacco, or illicit drugs. His family psychiatric and medical history was unknown, since he was adopted. He had no history of legal problems. Because of concern about the patient’s inability to protect himself in a new environment, given his impaired judgment and disorganized thinking, an order that authorized temporary involuntary hospitalization was implemented. The patient was admitted to the inpatient psychiatry unit. Results of urinalysis and the venous blood pH were normal; laboratory test results are shown in Table 1. Additional imaging studies were obtained. Dr. Little: A chest radiograph showed clear lungs. Magnetic resonance imaging (MRI) of the head (Fig. 2), performed without the administration of intravenous contrast material, revealed mild mucosal thickening in the paranasal sinus without acute intracranial abnormality. There was no evidence of infarct, such as intracranial mass, cerebral edema, or restricted diffusion, and there was no evidence of white-matter disease or volume loss. Dr. Crall: Laboratory test results that were obtained on the third hospital day are shown in Table 1. Results of additional diagnostic tests were received.\n"
   ]
  }
 ],
 "metadata": {
  "kernelspec": {
   "display_name": "base",
   "language": "python",
   "name": "python3"
  },
  "language_info": {
   "codemirror_mode": {
    "name": "ipython",
    "version": 3
   },
   "file_extension": ".py",
   "mimetype": "text/x-python",
   "name": "python",
   "nbconvert_exporter": "python",
   "pygments_lexer": "ipython3",
   "version": "3.12.2"
  },
  "orig_nbformat": 4
 },
 "nbformat": 4,
 "nbformat_minor": 2
}
